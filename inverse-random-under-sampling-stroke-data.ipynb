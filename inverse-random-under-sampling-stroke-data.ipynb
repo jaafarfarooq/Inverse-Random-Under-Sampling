{
 "cells": [
  {
   "cell_type": "code",
   "execution_count": 1,
   "metadata": {
    "_cell_guid": "b1076dfc-b9ad-4769-8c92-a6c4dae69d19",
    "_uuid": "8f2839f25d086af736a60e9eeb907d3b93b6e0e5",
    "execution": {
     "iopub.execute_input": "2022-06-19T14:43:10.209586Z",
     "iopub.status.busy": "2022-06-19T14:43:10.209082Z",
     "iopub.status.idle": "2022-06-19T14:43:10.250153Z",
     "shell.execute_reply": "2022-06-19T14:43:10.248944Z",
     "shell.execute_reply.started": "2022-06-19T14:43:10.209494Z"
    }
   },
   "outputs": [],
   "source": [
    "# This Python 3 environment comes with many helpful analytics libraries installed\n",
    "# It is defined by the kaggle/python Docker image: https://github.com/kaggle/docker-python\n",
    "# For example, here's several helpful packages to load\n",
    "\n",
    "import numpy as np # linear algebra\n",
    "import pandas as pd # data processing, CSV file I/O (e.g. pd.read_csv)\n",
    "\n",
    "# Input data files are available in the read-only \"../input/\" directory\n",
    "# For example, running this (by clicking run or pressing Shift+Enter) will list all files under the input directory\n",
    "\n",
    "import os\n",
    "for dirname, _, filenames in os.walk('/kaggle/input'):\n",
    "    for filename in filenames:\n",
    "        print(os.path.join(dirname, filename))\n",
    "\n",
    "# You can write up to 20GB to the current directory (/kaggle/working/) that gets preserved as output when you create a version using \"Save & Run All\" \n",
    "# You can also write temporary files to /kaggle/temp/, but they won't be saved outside of the current session"
   ]
  },
  {
   "cell_type": "markdown",
   "metadata": {},
   "source": [
    "## Dataset"
   ]
  },
  {
   "cell_type": "code",
   "execution_count": 2,
   "metadata": {
    "execution": {
     "iopub.execute_input": "2022-06-19T14:43:10.504221Z",
     "iopub.status.busy": "2022-06-19T14:43:10.503229Z",
     "iopub.status.idle": "2022-06-19T14:43:10.557390Z",
     "shell.execute_reply": "2022-06-19T14:43:10.556390Z",
     "shell.execute_reply.started": "2022-06-19T14:43:10.504170Z"
    }
   },
   "outputs": [
    {
     "data": {
      "text/html": [
       "<div>\n",
       "<style scoped>\n",
       "    .dataframe tbody tr th:only-of-type {\n",
       "        vertical-align: middle;\n",
       "    }\n",
       "\n",
       "    .dataframe tbody tr th {\n",
       "        vertical-align: top;\n",
       "    }\n",
       "\n",
       "    .dataframe thead th {\n",
       "        text-align: right;\n",
       "    }\n",
       "</style>\n",
       "<table border=\"1\" class=\"dataframe\">\n",
       "  <thead>\n",
       "    <tr style=\"text-align: right;\">\n",
       "      <th></th>\n",
       "      <th>id</th>\n",
       "      <th>gender</th>\n",
       "      <th>age</th>\n",
       "      <th>hypertension</th>\n",
       "      <th>heart_disease</th>\n",
       "      <th>ever_married</th>\n",
       "      <th>work_type</th>\n",
       "      <th>Residence_type</th>\n",
       "      <th>avg_glucose_level</th>\n",
       "      <th>bmi</th>\n",
       "      <th>smoking_status</th>\n",
       "      <th>stroke</th>\n",
       "    </tr>\n",
       "  </thead>\n",
       "  <tbody>\n",
       "    <tr>\n",
       "      <th>0</th>\n",
       "      <td>9046</td>\n",
       "      <td>Male</td>\n",
       "      <td>67.0</td>\n",
       "      <td>0</td>\n",
       "      <td>1</td>\n",
       "      <td>Yes</td>\n",
       "      <td>Private</td>\n",
       "      <td>Urban</td>\n",
       "      <td>228.69</td>\n",
       "      <td>36.6</td>\n",
       "      <td>formerly smoked</td>\n",
       "      <td>1</td>\n",
       "    </tr>\n",
       "    <tr>\n",
       "      <th>1</th>\n",
       "      <td>51676</td>\n",
       "      <td>Female</td>\n",
       "      <td>61.0</td>\n",
       "      <td>0</td>\n",
       "      <td>0</td>\n",
       "      <td>Yes</td>\n",
       "      <td>Self-employed</td>\n",
       "      <td>Rural</td>\n",
       "      <td>202.21</td>\n",
       "      <td>NaN</td>\n",
       "      <td>never smoked</td>\n",
       "      <td>1</td>\n",
       "    </tr>\n",
       "    <tr>\n",
       "      <th>2</th>\n",
       "      <td>31112</td>\n",
       "      <td>Male</td>\n",
       "      <td>80.0</td>\n",
       "      <td>0</td>\n",
       "      <td>1</td>\n",
       "      <td>Yes</td>\n",
       "      <td>Private</td>\n",
       "      <td>Rural</td>\n",
       "      <td>105.92</td>\n",
       "      <td>32.5</td>\n",
       "      <td>never smoked</td>\n",
       "      <td>1</td>\n",
       "    </tr>\n",
       "    <tr>\n",
       "      <th>3</th>\n",
       "      <td>60182</td>\n",
       "      <td>Female</td>\n",
       "      <td>49.0</td>\n",
       "      <td>0</td>\n",
       "      <td>0</td>\n",
       "      <td>Yes</td>\n",
       "      <td>Private</td>\n",
       "      <td>Urban</td>\n",
       "      <td>171.23</td>\n",
       "      <td>34.4</td>\n",
       "      <td>smokes</td>\n",
       "      <td>1</td>\n",
       "    </tr>\n",
       "    <tr>\n",
       "      <th>4</th>\n",
       "      <td>1665</td>\n",
       "      <td>Female</td>\n",
       "      <td>79.0</td>\n",
       "      <td>1</td>\n",
       "      <td>0</td>\n",
       "      <td>Yes</td>\n",
       "      <td>Self-employed</td>\n",
       "      <td>Rural</td>\n",
       "      <td>174.12</td>\n",
       "      <td>24.0</td>\n",
       "      <td>never smoked</td>\n",
       "      <td>1</td>\n",
       "    </tr>\n",
       "  </tbody>\n",
       "</table>\n",
       "</div>"
      ],
      "text/plain": [
       "      id  gender   age  hypertension  heart_disease ever_married  \\\n",
       "0   9046    Male  67.0             0              1          Yes   \n",
       "1  51676  Female  61.0             0              0          Yes   \n",
       "2  31112    Male  80.0             0              1          Yes   \n",
       "3  60182  Female  49.0             0              0          Yes   \n",
       "4   1665  Female  79.0             1              0          Yes   \n",
       "\n",
       "       work_type Residence_type  avg_glucose_level   bmi   smoking_status  \\\n",
       "0        Private          Urban             228.69  36.6  formerly smoked   \n",
       "1  Self-employed          Rural             202.21   NaN     never smoked   \n",
       "2        Private          Rural             105.92  32.5     never smoked   \n",
       "3        Private          Urban             171.23  34.4           smokes   \n",
       "4  Self-employed          Rural             174.12  24.0     never smoked   \n",
       "\n",
       "   stroke  \n",
       "0       1  \n",
       "1       1  \n",
       "2       1  \n",
       "3       1  \n",
       "4       1  "
      ]
     },
     "execution_count": 2,
     "metadata": {},
     "output_type": "execute_result"
    }
   ],
   "source": [
    "df=pd.read_csv('D:/uni stuff/Semester 8/DSCi/project/healthcare-dataset-stroke-data.csv')\n",
    "df.head()"
   ]
  },
  {
   "cell_type": "code",
   "execution_count": 3,
   "metadata": {
    "execution": {
     "iopub.execute_input": "2022-06-19T14:43:10.792120Z",
     "iopub.status.busy": "2022-06-19T14:43:10.791331Z",
     "iopub.status.idle": "2022-06-19T14:43:10.815858Z",
     "shell.execute_reply": "2022-06-19T14:43:10.814969Z",
     "shell.execute_reply.started": "2022-06-19T14:43:10.792072Z"
    }
   },
   "outputs": [
    {
     "data": {
      "text/html": [
       "<div>\n",
       "<style scoped>\n",
       "    .dataframe tbody tr th:only-of-type {\n",
       "        vertical-align: middle;\n",
       "    }\n",
       "\n",
       "    .dataframe tbody tr th {\n",
       "        vertical-align: top;\n",
       "    }\n",
       "\n",
       "    .dataframe thead th {\n",
       "        text-align: right;\n",
       "    }\n",
       "</style>\n",
       "<table border=\"1\" class=\"dataframe\">\n",
       "  <thead>\n",
       "    <tr style=\"text-align: right;\">\n",
       "      <th></th>\n",
       "      <th>0</th>\n",
       "      <th>1</th>\n",
       "      <th>2</th>\n",
       "      <th>3</th>\n",
       "      <th>4</th>\n",
       "      <th>5</th>\n",
       "      <th>6</th>\n",
       "      <th>7</th>\n",
       "      <th>8</th>\n",
       "      <th>9</th>\n",
       "    </tr>\n",
       "  </thead>\n",
       "  <tbody>\n",
       "    <tr>\n",
       "      <th>id</th>\n",
       "      <td>9046</td>\n",
       "      <td>51676</td>\n",
       "      <td>31112</td>\n",
       "      <td>60182</td>\n",
       "      <td>1665</td>\n",
       "      <td>56669</td>\n",
       "      <td>53882</td>\n",
       "      <td>10434</td>\n",
       "      <td>27419</td>\n",
       "      <td>60491</td>\n",
       "    </tr>\n",
       "    <tr>\n",
       "      <th>gender</th>\n",
       "      <td>Male</td>\n",
       "      <td>Female</td>\n",
       "      <td>Male</td>\n",
       "      <td>Female</td>\n",
       "      <td>Female</td>\n",
       "      <td>Male</td>\n",
       "      <td>Male</td>\n",
       "      <td>Female</td>\n",
       "      <td>Female</td>\n",
       "      <td>Female</td>\n",
       "    </tr>\n",
       "    <tr>\n",
       "      <th>age</th>\n",
       "      <td>67</td>\n",
       "      <td>61</td>\n",
       "      <td>80</td>\n",
       "      <td>49</td>\n",
       "      <td>79</td>\n",
       "      <td>81</td>\n",
       "      <td>74</td>\n",
       "      <td>69</td>\n",
       "      <td>59</td>\n",
       "      <td>78</td>\n",
       "    </tr>\n",
       "    <tr>\n",
       "      <th>hypertension</th>\n",
       "      <td>0</td>\n",
       "      <td>0</td>\n",
       "      <td>0</td>\n",
       "      <td>0</td>\n",
       "      <td>1</td>\n",
       "      <td>0</td>\n",
       "      <td>1</td>\n",
       "      <td>0</td>\n",
       "      <td>0</td>\n",
       "      <td>0</td>\n",
       "    </tr>\n",
       "    <tr>\n",
       "      <th>heart_disease</th>\n",
       "      <td>1</td>\n",
       "      <td>0</td>\n",
       "      <td>1</td>\n",
       "      <td>0</td>\n",
       "      <td>0</td>\n",
       "      <td>0</td>\n",
       "      <td>1</td>\n",
       "      <td>0</td>\n",
       "      <td>0</td>\n",
       "      <td>0</td>\n",
       "    </tr>\n",
       "    <tr>\n",
       "      <th>ever_married</th>\n",
       "      <td>Yes</td>\n",
       "      <td>Yes</td>\n",
       "      <td>Yes</td>\n",
       "      <td>Yes</td>\n",
       "      <td>Yes</td>\n",
       "      <td>Yes</td>\n",
       "      <td>Yes</td>\n",
       "      <td>No</td>\n",
       "      <td>Yes</td>\n",
       "      <td>Yes</td>\n",
       "    </tr>\n",
       "    <tr>\n",
       "      <th>work_type</th>\n",
       "      <td>Private</td>\n",
       "      <td>Self-employed</td>\n",
       "      <td>Private</td>\n",
       "      <td>Private</td>\n",
       "      <td>Self-employed</td>\n",
       "      <td>Private</td>\n",
       "      <td>Private</td>\n",
       "      <td>Private</td>\n",
       "      <td>Private</td>\n",
       "      <td>Private</td>\n",
       "    </tr>\n",
       "    <tr>\n",
       "      <th>Residence_type</th>\n",
       "      <td>Urban</td>\n",
       "      <td>Rural</td>\n",
       "      <td>Rural</td>\n",
       "      <td>Urban</td>\n",
       "      <td>Rural</td>\n",
       "      <td>Urban</td>\n",
       "      <td>Rural</td>\n",
       "      <td>Urban</td>\n",
       "      <td>Rural</td>\n",
       "      <td>Urban</td>\n",
       "    </tr>\n",
       "    <tr>\n",
       "      <th>avg_glucose_level</th>\n",
       "      <td>228.69</td>\n",
       "      <td>202.21</td>\n",
       "      <td>105.92</td>\n",
       "      <td>171.23</td>\n",
       "      <td>174.12</td>\n",
       "      <td>186.21</td>\n",
       "      <td>70.09</td>\n",
       "      <td>94.39</td>\n",
       "      <td>76.15</td>\n",
       "      <td>58.57</td>\n",
       "    </tr>\n",
       "    <tr>\n",
       "      <th>bmi</th>\n",
       "      <td>36.6</td>\n",
       "      <td>NaN</td>\n",
       "      <td>32.5</td>\n",
       "      <td>34.4</td>\n",
       "      <td>24</td>\n",
       "      <td>29</td>\n",
       "      <td>27.4</td>\n",
       "      <td>22.8</td>\n",
       "      <td>NaN</td>\n",
       "      <td>24.2</td>\n",
       "    </tr>\n",
       "    <tr>\n",
       "      <th>smoking_status</th>\n",
       "      <td>formerly smoked</td>\n",
       "      <td>never smoked</td>\n",
       "      <td>never smoked</td>\n",
       "      <td>smokes</td>\n",
       "      <td>never smoked</td>\n",
       "      <td>formerly smoked</td>\n",
       "      <td>never smoked</td>\n",
       "      <td>never smoked</td>\n",
       "      <td>Unknown</td>\n",
       "      <td>Unknown</td>\n",
       "    </tr>\n",
       "    <tr>\n",
       "      <th>stroke</th>\n",
       "      <td>1</td>\n",
       "      <td>1</td>\n",
       "      <td>1</td>\n",
       "      <td>1</td>\n",
       "      <td>1</td>\n",
       "      <td>1</td>\n",
       "      <td>1</td>\n",
       "      <td>1</td>\n",
       "      <td>1</td>\n",
       "      <td>1</td>\n",
       "    </tr>\n",
       "  </tbody>\n",
       "</table>\n",
       "</div>"
      ],
      "text/plain": [
       "                                 0              1             2        3  \\\n",
       "id                            9046          51676         31112    60182   \n",
       "gender                        Male         Female          Male   Female   \n",
       "age                             67             61            80       49   \n",
       "hypertension                     0              0             0        0   \n",
       "heart_disease                    1              0             1        0   \n",
       "ever_married                   Yes            Yes           Yes      Yes   \n",
       "work_type                  Private  Self-employed       Private  Private   \n",
       "Residence_type               Urban          Rural         Rural    Urban   \n",
       "avg_glucose_level           228.69         202.21        105.92   171.23   \n",
       "bmi                           36.6            NaN          32.5     34.4   \n",
       "smoking_status     formerly smoked   never smoked  never smoked   smokes   \n",
       "stroke                           1              1             1        1   \n",
       "\n",
       "                               4                5             6             7  \\\n",
       "id                          1665            56669         53882         10434   \n",
       "gender                    Female             Male          Male        Female   \n",
       "age                           79               81            74            69   \n",
       "hypertension                   1                0             1             0   \n",
       "heart_disease                  0                0             1             0   \n",
       "ever_married                 Yes              Yes           Yes            No   \n",
       "work_type          Self-employed          Private       Private       Private   \n",
       "Residence_type             Rural            Urban         Rural         Urban   \n",
       "avg_glucose_level         174.12           186.21         70.09         94.39   \n",
       "bmi                           24               29          27.4          22.8   \n",
       "smoking_status      never smoked  formerly smoked  never smoked  never smoked   \n",
       "stroke                         1                1             1             1   \n",
       "\n",
       "                         8        9  \n",
       "id                   27419    60491  \n",
       "gender              Female   Female  \n",
       "age                     59       78  \n",
       "hypertension             0        0  \n",
       "heart_disease            0        0  \n",
       "ever_married           Yes      Yes  \n",
       "work_type          Private  Private  \n",
       "Residence_type       Rural    Urban  \n",
       "avg_glucose_level    76.15    58.57  \n",
       "bmi                    NaN     24.2  \n",
       "smoking_status     Unknown  Unknown  \n",
       "stroke                   1        1  "
      ]
     },
     "execution_count": 3,
     "metadata": {},
     "output_type": "execute_result"
    }
   ],
   "source": [
    "df.head(10).T"
   ]
  },
  {
   "cell_type": "code",
   "execution_count": 4,
   "metadata": {
    "execution": {
     "iopub.execute_input": "2022-06-19T14:43:11.062398Z",
     "iopub.status.busy": "2022-06-19T14:43:11.061392Z",
     "iopub.status.idle": "2022-06-19T14:43:11.069043Z",
     "shell.execute_reply": "2022-06-19T14:43:11.068021Z",
     "shell.execute_reply.started": "2022-06-19T14:43:11.062353Z"
    }
   },
   "outputs": [
    {
     "data": {
      "text/plain": [
       "(5110, 12)"
      ]
     },
     "execution_count": 4,
     "metadata": {},
     "output_type": "execute_result"
    }
   ],
   "source": [
    "df.shape"
   ]
  },
  {
   "cell_type": "markdown",
   "metadata": {},
   "source": [
    "## Pre-Processing"
   ]
  },
  {
   "cell_type": "code",
   "execution_count": 5,
   "metadata": {
    "execution": {
     "iopub.execute_input": "2022-06-19T14:43:11.354629Z",
     "iopub.status.busy": "2022-06-19T14:43:11.353951Z",
     "iopub.status.idle": "2022-06-19T14:43:11.368658Z",
     "shell.execute_reply": "2022-06-19T14:43:11.367789Z",
     "shell.execute_reply.started": "2022-06-19T14:43:11.354463Z"
    }
   },
   "outputs": [
    {
     "data": {
      "text/plain": [
       "id                     0\n",
       "gender                 0\n",
       "age                    0\n",
       "hypertension           0\n",
       "heart_disease          0\n",
       "ever_married           0\n",
       "work_type              0\n",
       "Residence_type         0\n",
       "avg_glucose_level      0\n",
       "bmi                  201\n",
       "smoking_status         0\n",
       "stroke                 0\n",
       "dtype: int64"
      ]
     },
     "execution_count": 5,
     "metadata": {},
     "output_type": "execute_result"
    }
   ],
   "source": [
    "df.isnull().sum()"
   ]
  },
  {
   "cell_type": "code",
   "execution_count": 6,
   "metadata": {
    "execution": {
     "iopub.execute_input": "2022-06-19T14:43:11.629484Z",
     "iopub.status.busy": "2022-06-19T14:43:11.628438Z",
     "iopub.status.idle": "2022-06-19T14:43:11.638772Z",
     "shell.execute_reply": "2022-06-19T14:43:11.637767Z",
     "shell.execute_reply.started": "2022-06-19T14:43:11.629443Z"
    }
   },
   "outputs": [],
   "source": [
    "# Fill null values in bmi with mean value \n",
    "df['bmi'].fillna(df['bmi'].mean(),inplace=True)"
   ]
  },
  {
   "cell_type": "code",
   "execution_count": 7,
   "metadata": {
    "execution": {
     "iopub.execute_input": "2022-06-19T14:43:11.894180Z",
     "iopub.status.busy": "2022-06-19T14:43:11.893282Z",
     "iopub.status.idle": "2022-06-19T14:43:11.906919Z",
     "shell.execute_reply": "2022-06-19T14:43:11.905830Z",
     "shell.execute_reply.started": "2022-06-19T14:43:11.894124Z"
    }
   },
   "outputs": [
    {
     "data": {
      "text/plain": [
       "id                   0\n",
       "gender               0\n",
       "age                  0\n",
       "hypertension         0\n",
       "heart_disease        0\n",
       "ever_married         0\n",
       "work_type            0\n",
       "Residence_type       0\n",
       "avg_glucose_level    0\n",
       "bmi                  0\n",
       "smoking_status       0\n",
       "stroke               0\n",
       "dtype: int64"
      ]
     },
     "execution_count": 7,
     "metadata": {},
     "output_type": "execute_result"
    }
   ],
   "source": [
    "df.isnull().sum()"
   ]
  },
  {
   "cell_type": "code",
   "execution_count": 8,
   "metadata": {
    "execution": {
     "iopub.execute_input": "2022-06-19T14:43:12.181883Z",
     "iopub.status.busy": "2022-06-19T14:43:12.181426Z",
     "iopub.status.idle": "2022-06-19T14:43:12.207501Z",
     "shell.execute_reply": "2022-06-19T14:43:12.206534Z",
     "shell.execute_reply.started": "2022-06-19T14:43:12.181847Z"
    }
   },
   "outputs": [
    {
     "name": "stdout",
     "output_type": "stream",
     "text": [
      "<class 'pandas.core.frame.DataFrame'>\n",
      "RangeIndex: 5110 entries, 0 to 5109\n",
      "Data columns (total 12 columns):\n",
      " #   Column             Non-Null Count  Dtype  \n",
      "---  ------             --------------  -----  \n",
      " 0   id                 5110 non-null   int64  \n",
      " 1   gender             5110 non-null   object \n",
      " 2   age                5110 non-null   float64\n",
      " 3   hypertension       5110 non-null   int64  \n",
      " 4   heart_disease      5110 non-null   int64  \n",
      " 5   ever_married       5110 non-null   object \n",
      " 6   work_type          5110 non-null   object \n",
      " 7   Residence_type     5110 non-null   object \n",
      " 8   avg_glucose_level  5110 non-null   float64\n",
      " 9   bmi                5110 non-null   float64\n",
      " 10  smoking_status     5110 non-null   object \n",
      " 11  stroke             5110 non-null   int64  \n",
      "dtypes: float64(3), int64(4), object(5)\n",
      "memory usage: 479.2+ KB\n"
     ]
    }
   ],
   "source": [
    "df.info()"
   ]
  },
  {
   "cell_type": "code",
   "execution_count": 9,
   "metadata": {
    "execution": {
     "iopub.execute_input": "2022-06-19T14:43:12.465357Z",
     "iopub.status.busy": "2022-06-19T14:43:12.464891Z",
     "iopub.status.idle": "2022-06-19T14:43:12.505149Z",
     "shell.execute_reply": "2022-06-19T14:43:12.504149Z",
     "shell.execute_reply.started": "2022-06-19T14:43:12.465319Z"
    }
   },
   "outputs": [
    {
     "data": {
      "text/html": [
       "<div>\n",
       "<style scoped>\n",
       "    .dataframe tbody tr th:only-of-type {\n",
       "        vertical-align: middle;\n",
       "    }\n",
       "\n",
       "    .dataframe tbody tr th {\n",
       "        vertical-align: top;\n",
       "    }\n",
       "\n",
       "    .dataframe thead th {\n",
       "        text-align: right;\n",
       "    }\n",
       "</style>\n",
       "<table border=\"1\" class=\"dataframe\">\n",
       "  <thead>\n",
       "    <tr style=\"text-align: right;\">\n",
       "      <th></th>\n",
       "      <th>id</th>\n",
       "      <th>age</th>\n",
       "      <th>hypertension</th>\n",
       "      <th>heart_disease</th>\n",
       "      <th>avg_glucose_level</th>\n",
       "      <th>bmi</th>\n",
       "      <th>stroke</th>\n",
       "    </tr>\n",
       "  </thead>\n",
       "  <tbody>\n",
       "    <tr>\n",
       "      <th>count</th>\n",
       "      <td>5110.000000</td>\n",
       "      <td>5110.000000</td>\n",
       "      <td>5110.000000</td>\n",
       "      <td>5110.000000</td>\n",
       "      <td>5110.000000</td>\n",
       "      <td>5110.000000</td>\n",
       "      <td>5110.000000</td>\n",
       "    </tr>\n",
       "    <tr>\n",
       "      <th>mean</th>\n",
       "      <td>36517.829354</td>\n",
       "      <td>43.226614</td>\n",
       "      <td>0.097456</td>\n",
       "      <td>0.054012</td>\n",
       "      <td>106.147677</td>\n",
       "      <td>28.893237</td>\n",
       "      <td>0.048728</td>\n",
       "    </tr>\n",
       "    <tr>\n",
       "      <th>std</th>\n",
       "      <td>21161.721625</td>\n",
       "      <td>22.612647</td>\n",
       "      <td>0.296607</td>\n",
       "      <td>0.226063</td>\n",
       "      <td>45.283560</td>\n",
       "      <td>7.698018</td>\n",
       "      <td>0.215320</td>\n",
       "    </tr>\n",
       "    <tr>\n",
       "      <th>min</th>\n",
       "      <td>67.000000</td>\n",
       "      <td>0.080000</td>\n",
       "      <td>0.000000</td>\n",
       "      <td>0.000000</td>\n",
       "      <td>55.120000</td>\n",
       "      <td>10.300000</td>\n",
       "      <td>0.000000</td>\n",
       "    </tr>\n",
       "    <tr>\n",
       "      <th>25%</th>\n",
       "      <td>17741.250000</td>\n",
       "      <td>25.000000</td>\n",
       "      <td>0.000000</td>\n",
       "      <td>0.000000</td>\n",
       "      <td>77.245000</td>\n",
       "      <td>23.800000</td>\n",
       "      <td>0.000000</td>\n",
       "    </tr>\n",
       "    <tr>\n",
       "      <th>50%</th>\n",
       "      <td>36932.000000</td>\n",
       "      <td>45.000000</td>\n",
       "      <td>0.000000</td>\n",
       "      <td>0.000000</td>\n",
       "      <td>91.885000</td>\n",
       "      <td>28.400000</td>\n",
       "      <td>0.000000</td>\n",
       "    </tr>\n",
       "    <tr>\n",
       "      <th>75%</th>\n",
       "      <td>54682.000000</td>\n",
       "      <td>61.000000</td>\n",
       "      <td>0.000000</td>\n",
       "      <td>0.000000</td>\n",
       "      <td>114.090000</td>\n",
       "      <td>32.800000</td>\n",
       "      <td>0.000000</td>\n",
       "    </tr>\n",
       "    <tr>\n",
       "      <th>max</th>\n",
       "      <td>72940.000000</td>\n",
       "      <td>82.000000</td>\n",
       "      <td>1.000000</td>\n",
       "      <td>1.000000</td>\n",
       "      <td>271.740000</td>\n",
       "      <td>97.600000</td>\n",
       "      <td>1.000000</td>\n",
       "    </tr>\n",
       "  </tbody>\n",
       "</table>\n",
       "</div>"
      ],
      "text/plain": [
       "                 id          age  hypertension  heart_disease  \\\n",
       "count   5110.000000  5110.000000   5110.000000    5110.000000   \n",
       "mean   36517.829354    43.226614      0.097456       0.054012   \n",
       "std    21161.721625    22.612647      0.296607       0.226063   \n",
       "min       67.000000     0.080000      0.000000       0.000000   \n",
       "25%    17741.250000    25.000000      0.000000       0.000000   \n",
       "50%    36932.000000    45.000000      0.000000       0.000000   \n",
       "75%    54682.000000    61.000000      0.000000       0.000000   \n",
       "max    72940.000000    82.000000      1.000000       1.000000   \n",
       "\n",
       "       avg_glucose_level          bmi       stroke  \n",
       "count        5110.000000  5110.000000  5110.000000  \n",
       "mean          106.147677    28.893237     0.048728  \n",
       "std            45.283560     7.698018     0.215320  \n",
       "min            55.120000    10.300000     0.000000  \n",
       "25%            77.245000    23.800000     0.000000  \n",
       "50%            91.885000    28.400000     0.000000  \n",
       "75%           114.090000    32.800000     0.000000  \n",
       "max           271.740000    97.600000     1.000000  "
      ]
     },
     "execution_count": 9,
     "metadata": {},
     "output_type": "execute_result"
    }
   ],
   "source": [
    "df.describe()"
   ]
  },
  {
   "cell_type": "code",
   "execution_count": 10,
   "metadata": {
    "execution": {
     "iopub.execute_input": "2022-06-19T14:43:12.735400Z",
     "iopub.status.busy": "2022-06-19T14:43:12.734776Z",
     "iopub.status.idle": "2022-06-19T14:43:12.742148Z",
     "shell.execute_reply": "2022-06-19T14:43:12.741298Z",
     "shell.execute_reply.started": "2022-06-19T14:43:12.735348Z"
    }
   },
   "outputs": [],
   "source": [
    "df.drop(['id'],axis=1,inplace=True)"
   ]
  },
  {
   "cell_type": "code",
   "execution_count": 11,
   "metadata": {
    "execution": {
     "iopub.execute_input": "2022-06-19T14:43:13.027427Z",
     "iopub.status.busy": "2022-06-19T14:43:13.027035Z",
     "iopub.status.idle": "2022-06-19T14:43:13.049421Z",
     "shell.execute_reply": "2022-06-19T14:43:13.048457Z",
     "shell.execute_reply.started": "2022-06-19T14:43:13.027396Z"
    }
   },
   "outputs": [
    {
     "data": {
      "text/html": [
       "<div>\n",
       "<style scoped>\n",
       "    .dataframe tbody tr th:only-of-type {\n",
       "        vertical-align: middle;\n",
       "    }\n",
       "\n",
       "    .dataframe tbody tr th {\n",
       "        vertical-align: top;\n",
       "    }\n",
       "\n",
       "    .dataframe thead th {\n",
       "        text-align: right;\n",
       "    }\n",
       "</style>\n",
       "<table border=\"1\" class=\"dataframe\">\n",
       "  <thead>\n",
       "    <tr style=\"text-align: right;\">\n",
       "      <th></th>\n",
       "      <th>0</th>\n",
       "      <th>1</th>\n",
       "      <th>2</th>\n",
       "      <th>3</th>\n",
       "      <th>4</th>\n",
       "      <th>5</th>\n",
       "      <th>6</th>\n",
       "      <th>7</th>\n",
       "      <th>8</th>\n",
       "      <th>9</th>\n",
       "    </tr>\n",
       "  </thead>\n",
       "  <tbody>\n",
       "    <tr>\n",
       "      <th>gender</th>\n",
       "      <td>Male</td>\n",
       "      <td>Female</td>\n",
       "      <td>Male</td>\n",
       "      <td>Female</td>\n",
       "      <td>Female</td>\n",
       "      <td>Male</td>\n",
       "      <td>Male</td>\n",
       "      <td>Female</td>\n",
       "      <td>Female</td>\n",
       "      <td>Female</td>\n",
       "    </tr>\n",
       "    <tr>\n",
       "      <th>age</th>\n",
       "      <td>67</td>\n",
       "      <td>61</td>\n",
       "      <td>80</td>\n",
       "      <td>49</td>\n",
       "      <td>79</td>\n",
       "      <td>81</td>\n",
       "      <td>74</td>\n",
       "      <td>69</td>\n",
       "      <td>59</td>\n",
       "      <td>78</td>\n",
       "    </tr>\n",
       "    <tr>\n",
       "      <th>hypertension</th>\n",
       "      <td>0</td>\n",
       "      <td>0</td>\n",
       "      <td>0</td>\n",
       "      <td>0</td>\n",
       "      <td>1</td>\n",
       "      <td>0</td>\n",
       "      <td>1</td>\n",
       "      <td>0</td>\n",
       "      <td>0</td>\n",
       "      <td>0</td>\n",
       "    </tr>\n",
       "    <tr>\n",
       "      <th>heart_disease</th>\n",
       "      <td>1</td>\n",
       "      <td>0</td>\n",
       "      <td>1</td>\n",
       "      <td>0</td>\n",
       "      <td>0</td>\n",
       "      <td>0</td>\n",
       "      <td>1</td>\n",
       "      <td>0</td>\n",
       "      <td>0</td>\n",
       "      <td>0</td>\n",
       "    </tr>\n",
       "    <tr>\n",
       "      <th>ever_married</th>\n",
       "      <td>Yes</td>\n",
       "      <td>Yes</td>\n",
       "      <td>Yes</td>\n",
       "      <td>Yes</td>\n",
       "      <td>Yes</td>\n",
       "      <td>Yes</td>\n",
       "      <td>Yes</td>\n",
       "      <td>No</td>\n",
       "      <td>Yes</td>\n",
       "      <td>Yes</td>\n",
       "    </tr>\n",
       "    <tr>\n",
       "      <th>work_type</th>\n",
       "      <td>Private</td>\n",
       "      <td>Self-employed</td>\n",
       "      <td>Private</td>\n",
       "      <td>Private</td>\n",
       "      <td>Self-employed</td>\n",
       "      <td>Private</td>\n",
       "      <td>Private</td>\n",
       "      <td>Private</td>\n",
       "      <td>Private</td>\n",
       "      <td>Private</td>\n",
       "    </tr>\n",
       "    <tr>\n",
       "      <th>Residence_type</th>\n",
       "      <td>Urban</td>\n",
       "      <td>Rural</td>\n",
       "      <td>Rural</td>\n",
       "      <td>Urban</td>\n",
       "      <td>Rural</td>\n",
       "      <td>Urban</td>\n",
       "      <td>Rural</td>\n",
       "      <td>Urban</td>\n",
       "      <td>Rural</td>\n",
       "      <td>Urban</td>\n",
       "    </tr>\n",
       "    <tr>\n",
       "      <th>avg_glucose_level</th>\n",
       "      <td>228.69</td>\n",
       "      <td>202.21</td>\n",
       "      <td>105.92</td>\n",
       "      <td>171.23</td>\n",
       "      <td>174.12</td>\n",
       "      <td>186.21</td>\n",
       "      <td>70.09</td>\n",
       "      <td>94.39</td>\n",
       "      <td>76.15</td>\n",
       "      <td>58.57</td>\n",
       "    </tr>\n",
       "    <tr>\n",
       "      <th>bmi</th>\n",
       "      <td>36.6</td>\n",
       "      <td>28.8932</td>\n",
       "      <td>32.5</td>\n",
       "      <td>34.4</td>\n",
       "      <td>24</td>\n",
       "      <td>29</td>\n",
       "      <td>27.4</td>\n",
       "      <td>22.8</td>\n",
       "      <td>28.8932</td>\n",
       "      <td>24.2</td>\n",
       "    </tr>\n",
       "    <tr>\n",
       "      <th>smoking_status</th>\n",
       "      <td>formerly smoked</td>\n",
       "      <td>never smoked</td>\n",
       "      <td>never smoked</td>\n",
       "      <td>smokes</td>\n",
       "      <td>never smoked</td>\n",
       "      <td>formerly smoked</td>\n",
       "      <td>never smoked</td>\n",
       "      <td>never smoked</td>\n",
       "      <td>Unknown</td>\n",
       "      <td>Unknown</td>\n",
       "    </tr>\n",
       "    <tr>\n",
       "      <th>stroke</th>\n",
       "      <td>1</td>\n",
       "      <td>1</td>\n",
       "      <td>1</td>\n",
       "      <td>1</td>\n",
       "      <td>1</td>\n",
       "      <td>1</td>\n",
       "      <td>1</td>\n",
       "      <td>1</td>\n",
       "      <td>1</td>\n",
       "      <td>1</td>\n",
       "    </tr>\n",
       "  </tbody>\n",
       "</table>\n",
       "</div>"
      ],
      "text/plain": [
       "                                 0              1             2        3  \\\n",
       "gender                        Male         Female          Male   Female   \n",
       "age                             67             61            80       49   \n",
       "hypertension                     0              0             0        0   \n",
       "heart_disease                    1              0             1        0   \n",
       "ever_married                   Yes            Yes           Yes      Yes   \n",
       "work_type                  Private  Self-employed       Private  Private   \n",
       "Residence_type               Urban          Rural         Rural    Urban   \n",
       "avg_glucose_level           228.69         202.21        105.92   171.23   \n",
       "bmi                           36.6        28.8932          32.5     34.4   \n",
       "smoking_status     formerly smoked   never smoked  never smoked   smokes   \n",
       "stroke                           1              1             1        1   \n",
       "\n",
       "                               4                5             6             7  \\\n",
       "gender                    Female             Male          Male        Female   \n",
       "age                           79               81            74            69   \n",
       "hypertension                   1                0             1             0   \n",
       "heart_disease                  0                0             1             0   \n",
       "ever_married                 Yes              Yes           Yes            No   \n",
       "work_type          Self-employed          Private       Private       Private   \n",
       "Residence_type             Rural            Urban         Rural         Urban   \n",
       "avg_glucose_level         174.12           186.21         70.09         94.39   \n",
       "bmi                           24               29          27.4          22.8   \n",
       "smoking_status      never smoked  formerly smoked  never smoked  never smoked   \n",
       "stroke                         1                1             1             1   \n",
       "\n",
       "                         8        9  \n",
       "gender              Female   Female  \n",
       "age                     59       78  \n",
       "hypertension             0        0  \n",
       "heart_disease            0        0  \n",
       "ever_married           Yes      Yes  \n",
       "work_type          Private  Private  \n",
       "Residence_type       Rural    Urban  \n",
       "avg_glucose_level    76.15    58.57  \n",
       "bmi                28.8932     24.2  \n",
       "smoking_status     Unknown  Unknown  \n",
       "stroke                   1        1  "
      ]
     },
     "execution_count": 11,
     "metadata": {},
     "output_type": "execute_result"
    }
   ],
   "source": [
    "df.head(10).T"
   ]
  },
  {
   "cell_type": "markdown",
   "metadata": {},
   "source": [
    "### Check all the columns have unique value"
   ]
  },
  {
   "cell_type": "code",
   "execution_count": 12,
   "metadata": {
    "execution": {
     "iopub.execute_input": "2022-06-19T14:43:13.313290Z",
     "iopub.status.busy": "2022-06-19T14:43:13.312654Z",
     "iopub.status.idle": "2022-06-19T14:43:13.321532Z",
     "shell.execute_reply": "2022-06-19T14:43:13.320537Z",
     "shell.execute_reply.started": "2022-06-19T14:43:13.313254Z"
    }
   },
   "outputs": [
    {
     "data": {
      "text/plain": [
       "array(['Male', 'Female', 'Other'], dtype=object)"
      ]
     },
     "execution_count": 12,
     "metadata": {},
     "output_type": "execute_result"
    }
   ],
   "source": [
    "df['gender'].unique()"
   ]
  },
  {
   "cell_type": "code",
   "execution_count": 13,
   "metadata": {
    "execution": {
     "iopub.execute_input": "2022-06-19T14:43:13.662469Z",
     "iopub.status.busy": "2022-06-19T14:43:13.661760Z",
     "iopub.status.idle": "2022-06-19T14:43:13.669565Z",
     "shell.execute_reply": "2022-06-19T14:43:13.668673Z",
     "shell.execute_reply.started": "2022-06-19T14:43:13.662431Z"
    }
   },
   "outputs": [
    {
     "data": {
      "text/plain": [
       "array(['Yes', 'No'], dtype=object)"
      ]
     },
     "execution_count": 13,
     "metadata": {},
     "output_type": "execute_result"
    }
   ],
   "source": [
    "df['ever_married'].unique()"
   ]
  },
  {
   "cell_type": "code",
   "execution_count": 14,
   "metadata": {
    "execution": {
     "iopub.execute_input": "2022-06-19T14:43:13.943791Z",
     "iopub.status.busy": "2022-06-19T14:43:13.942747Z",
     "iopub.status.idle": "2022-06-19T14:43:13.952034Z",
     "shell.execute_reply": "2022-06-19T14:43:13.951142Z",
     "shell.execute_reply.started": "2022-06-19T14:43:13.943719Z"
    }
   },
   "outputs": [
    {
     "data": {
      "text/plain": [
       "array(['Private', 'Self-employed', 'Govt_job', 'children', 'Never_worked'],\n",
       "      dtype=object)"
      ]
     },
     "execution_count": 14,
     "metadata": {},
     "output_type": "execute_result"
    }
   ],
   "source": [
    "df['work_type'].unique()"
   ]
  },
  {
   "cell_type": "code",
   "execution_count": 15,
   "metadata": {
    "execution": {
     "iopub.execute_input": "2022-06-19T14:43:14.220660Z",
     "iopub.status.busy": "2022-06-19T14:43:14.220260Z",
     "iopub.status.idle": "2022-06-19T14:43:14.230024Z",
     "shell.execute_reply": "2022-06-19T14:43:14.228782Z",
     "shell.execute_reply.started": "2022-06-19T14:43:14.220614Z"
    }
   },
   "outputs": [
    {
     "data": {
      "text/plain": [
       "array(['Urban', 'Rural'], dtype=object)"
      ]
     },
     "execution_count": 15,
     "metadata": {},
     "output_type": "execute_result"
    }
   ],
   "source": [
    "df['Residence_type'].unique()"
   ]
  },
  {
   "cell_type": "code",
   "execution_count": 16,
   "metadata": {
    "execution": {
     "iopub.execute_input": "2022-06-19T14:43:14.487403Z",
     "iopub.status.busy": "2022-06-19T14:43:14.486570Z",
     "iopub.status.idle": "2022-06-19T14:43:14.497799Z",
     "shell.execute_reply": "2022-06-19T14:43:14.496255Z",
     "shell.execute_reply.started": "2022-06-19T14:43:14.487363Z"
    }
   },
   "outputs": [
    {
     "data": {
      "text/plain": [
       "array(['formerly smoked', 'never smoked', 'smokes', 'Unknown'],\n",
       "      dtype=object)"
      ]
     },
     "execution_count": 16,
     "metadata": {},
     "output_type": "execute_result"
    }
   ],
   "source": [
    "df['smoking_status'].unique()"
   ]
  },
  {
   "cell_type": "code",
   "execution_count": 17,
   "metadata": {
    "execution": {
     "iopub.execute_input": "2022-06-19T14:43:14.782597Z",
     "iopub.status.busy": "2022-06-19T14:43:14.782195Z",
     "iopub.status.idle": "2022-06-19T14:43:14.789993Z",
     "shell.execute_reply": "2022-06-19T14:43:14.788914Z",
     "shell.execute_reply.started": "2022-06-19T14:43:14.782566Z"
    }
   },
   "outputs": [
    {
     "name": "stdout",
     "output_type": "stream",
     "text": [
      "1544\n"
     ]
    }
   ],
   "source": [
    "print(df['smoking_status'][df['smoking_status']=='Unknown'].count())"
   ]
  },
  {
   "cell_type": "code",
   "execution_count": 18,
   "metadata": {
    "execution": {
     "iopub.execute_input": "2022-06-19T14:43:15.009938Z",
     "iopub.status.busy": "2022-06-19T14:43:15.009523Z",
     "iopub.status.idle": "2022-06-19T14:43:15.016672Z",
     "shell.execute_reply": "2022-06-19T14:43:15.015910Z",
     "shell.execute_reply.started": "2022-06-19T14:43:15.009907Z"
    }
   },
   "outputs": [
    {
     "data": {
      "text/plain": [
       "Index(['gender', 'age', 'hypertension', 'heart_disease', 'ever_married',\n",
       "       'work_type', 'Residence_type', 'avg_glucose_level', 'bmi',\n",
       "       'smoking_status', 'stroke'],\n",
       "      dtype='object')"
      ]
     },
     "execution_count": 18,
     "metadata": {},
     "output_type": "execute_result"
    }
   ],
   "source": [
    "df.columns"
   ]
  },
  {
   "cell_type": "markdown",
   "metadata": {},
   "source": [
    "Smoking_status has some invalid/missing values"
   ]
  },
  {
   "cell_type": "code",
   "execution_count": 19,
   "metadata": {
    "execution": {
     "iopub.execute_input": "2022-06-19T14:43:15.520535Z",
     "iopub.status.busy": "2022-06-19T14:43:15.519727Z",
     "iopub.status.idle": "2022-06-19T14:43:15.527536Z",
     "shell.execute_reply": "2022-06-19T14:43:15.526727Z",
     "shell.execute_reply.started": "2022-06-19T14:43:15.520497Z"
    }
   },
   "outputs": [],
   "source": [
    "df=df.replace('Unknown', np.nan)"
   ]
  },
  {
   "cell_type": "code",
   "execution_count": 20,
   "metadata": {
    "execution": {
     "iopub.execute_input": "2022-06-19T14:43:15.828870Z",
     "iopub.status.busy": "2022-06-19T14:43:15.828379Z",
     "iopub.status.idle": "2022-06-19T14:43:15.844570Z",
     "shell.execute_reply": "2022-06-19T14:43:15.843344Z",
     "shell.execute_reply.started": "2022-06-19T14:43:15.828829Z"
    }
   },
   "outputs": [
    {
     "data": {
      "text/plain": [
       "gender                  0\n",
       "age                     0\n",
       "hypertension            0\n",
       "heart_disease           0\n",
       "ever_married            0\n",
       "work_type               0\n",
       "Residence_type          0\n",
       "avg_glucose_level       0\n",
       "bmi                     0\n",
       "smoking_status       1544\n",
       "stroke                  0\n",
       "dtype: int64"
      ]
     },
     "execution_count": 20,
     "metadata": {},
     "output_type": "execute_result"
    }
   ],
   "source": [
    "df.isnull().sum()"
   ]
  },
  {
   "cell_type": "code",
   "execution_count": 21,
   "metadata": {
    "execution": {
     "iopub.execute_input": "2022-06-19T14:43:16.140581Z",
     "iopub.status.busy": "2022-06-19T14:43:16.139959Z",
     "iopub.status.idle": "2022-06-19T14:43:16.160000Z",
     "shell.execute_reply": "2022-06-19T14:43:16.158830Z",
     "shell.execute_reply.started": "2022-06-19T14:43:16.140545Z"
    }
   },
   "outputs": [
    {
     "data": {
      "text/html": [
       "<div>\n",
       "<style scoped>\n",
       "    .dataframe tbody tr th:only-of-type {\n",
       "        vertical-align: middle;\n",
       "    }\n",
       "\n",
       "    .dataframe tbody tr th {\n",
       "        vertical-align: top;\n",
       "    }\n",
       "\n",
       "    .dataframe thead th {\n",
       "        text-align: right;\n",
       "    }\n",
       "</style>\n",
       "<table border=\"1\" class=\"dataframe\">\n",
       "  <thead>\n",
       "    <tr style=\"text-align: right;\">\n",
       "      <th></th>\n",
       "      <th>gender</th>\n",
       "      <th>age</th>\n",
       "      <th>hypertension</th>\n",
       "      <th>heart_disease</th>\n",
       "      <th>ever_married</th>\n",
       "      <th>work_type</th>\n",
       "      <th>Residence_type</th>\n",
       "      <th>avg_glucose_level</th>\n",
       "      <th>bmi</th>\n",
       "      <th>smoking_status</th>\n",
       "      <th>stroke</th>\n",
       "    </tr>\n",
       "  </thead>\n",
       "  <tbody>\n",
       "    <tr>\n",
       "      <th>0</th>\n",
       "      <td>Male</td>\n",
       "      <td>67.0</td>\n",
       "      <td>0</td>\n",
       "      <td>1</td>\n",
       "      <td>Yes</td>\n",
       "      <td>Private</td>\n",
       "      <td>Urban</td>\n",
       "      <td>228.69</td>\n",
       "      <td>36.600000</td>\n",
       "      <td>formerly smoked</td>\n",
       "      <td>1</td>\n",
       "    </tr>\n",
       "    <tr>\n",
       "      <th>1</th>\n",
       "      <td>Female</td>\n",
       "      <td>61.0</td>\n",
       "      <td>0</td>\n",
       "      <td>0</td>\n",
       "      <td>Yes</td>\n",
       "      <td>Self-employed</td>\n",
       "      <td>Rural</td>\n",
       "      <td>202.21</td>\n",
       "      <td>28.893237</td>\n",
       "      <td>never smoked</td>\n",
       "      <td>1</td>\n",
       "    </tr>\n",
       "    <tr>\n",
       "      <th>2</th>\n",
       "      <td>Male</td>\n",
       "      <td>80.0</td>\n",
       "      <td>0</td>\n",
       "      <td>1</td>\n",
       "      <td>Yes</td>\n",
       "      <td>Private</td>\n",
       "      <td>Rural</td>\n",
       "      <td>105.92</td>\n",
       "      <td>32.500000</td>\n",
       "      <td>never smoked</td>\n",
       "      <td>1</td>\n",
       "    </tr>\n",
       "    <tr>\n",
       "      <th>3</th>\n",
       "      <td>Female</td>\n",
       "      <td>49.0</td>\n",
       "      <td>0</td>\n",
       "      <td>0</td>\n",
       "      <td>Yes</td>\n",
       "      <td>Private</td>\n",
       "      <td>Urban</td>\n",
       "      <td>171.23</td>\n",
       "      <td>34.400000</td>\n",
       "      <td>smokes</td>\n",
       "      <td>1</td>\n",
       "    </tr>\n",
       "    <tr>\n",
       "      <th>4</th>\n",
       "      <td>Female</td>\n",
       "      <td>79.0</td>\n",
       "      <td>1</td>\n",
       "      <td>0</td>\n",
       "      <td>Yes</td>\n",
       "      <td>Self-employed</td>\n",
       "      <td>Rural</td>\n",
       "      <td>174.12</td>\n",
       "      <td>24.000000</td>\n",
       "      <td>never smoked</td>\n",
       "      <td>1</td>\n",
       "    </tr>\n",
       "    <tr>\n",
       "      <th>5</th>\n",
       "      <td>Male</td>\n",
       "      <td>81.0</td>\n",
       "      <td>0</td>\n",
       "      <td>0</td>\n",
       "      <td>Yes</td>\n",
       "      <td>Private</td>\n",
       "      <td>Urban</td>\n",
       "      <td>186.21</td>\n",
       "      <td>29.000000</td>\n",
       "      <td>formerly smoked</td>\n",
       "      <td>1</td>\n",
       "    </tr>\n",
       "    <tr>\n",
       "      <th>6</th>\n",
       "      <td>Male</td>\n",
       "      <td>74.0</td>\n",
       "      <td>1</td>\n",
       "      <td>1</td>\n",
       "      <td>Yes</td>\n",
       "      <td>Private</td>\n",
       "      <td>Rural</td>\n",
       "      <td>70.09</td>\n",
       "      <td>27.400000</td>\n",
       "      <td>never smoked</td>\n",
       "      <td>1</td>\n",
       "    </tr>\n",
       "    <tr>\n",
       "      <th>7</th>\n",
       "      <td>Female</td>\n",
       "      <td>69.0</td>\n",
       "      <td>0</td>\n",
       "      <td>0</td>\n",
       "      <td>No</td>\n",
       "      <td>Private</td>\n",
       "      <td>Urban</td>\n",
       "      <td>94.39</td>\n",
       "      <td>22.800000</td>\n",
       "      <td>never smoked</td>\n",
       "      <td>1</td>\n",
       "    </tr>\n",
       "    <tr>\n",
       "      <th>8</th>\n",
       "      <td>Female</td>\n",
       "      <td>59.0</td>\n",
       "      <td>0</td>\n",
       "      <td>0</td>\n",
       "      <td>Yes</td>\n",
       "      <td>Private</td>\n",
       "      <td>Rural</td>\n",
       "      <td>76.15</td>\n",
       "      <td>28.893237</td>\n",
       "      <td>NaN</td>\n",
       "      <td>1</td>\n",
       "    </tr>\n",
       "    <tr>\n",
       "      <th>9</th>\n",
       "      <td>Female</td>\n",
       "      <td>78.0</td>\n",
       "      <td>0</td>\n",
       "      <td>0</td>\n",
       "      <td>Yes</td>\n",
       "      <td>Private</td>\n",
       "      <td>Urban</td>\n",
       "      <td>58.57</td>\n",
       "      <td>24.200000</td>\n",
       "      <td>NaN</td>\n",
       "      <td>1</td>\n",
       "    </tr>\n",
       "  </tbody>\n",
       "</table>\n",
       "</div>"
      ],
      "text/plain": [
       "   gender   age  hypertension  heart_disease ever_married      work_type  \\\n",
       "0    Male  67.0             0              1          Yes        Private   \n",
       "1  Female  61.0             0              0          Yes  Self-employed   \n",
       "2    Male  80.0             0              1          Yes        Private   \n",
       "3  Female  49.0             0              0          Yes        Private   \n",
       "4  Female  79.0             1              0          Yes  Self-employed   \n",
       "5    Male  81.0             0              0          Yes        Private   \n",
       "6    Male  74.0             1              1          Yes        Private   \n",
       "7  Female  69.0             0              0           No        Private   \n",
       "8  Female  59.0             0              0          Yes        Private   \n",
       "9  Female  78.0             0              0          Yes        Private   \n",
       "\n",
       "  Residence_type  avg_glucose_level        bmi   smoking_status  stroke  \n",
       "0          Urban             228.69  36.600000  formerly smoked       1  \n",
       "1          Rural             202.21  28.893237     never smoked       1  \n",
       "2          Rural             105.92  32.500000     never smoked       1  \n",
       "3          Urban             171.23  34.400000           smokes       1  \n",
       "4          Rural             174.12  24.000000     never smoked       1  \n",
       "5          Urban             186.21  29.000000  formerly smoked       1  \n",
       "6          Rural              70.09  27.400000     never smoked       1  \n",
       "7          Urban              94.39  22.800000     never smoked       1  \n",
       "8          Rural              76.15  28.893237              NaN       1  \n",
       "9          Urban              58.57  24.200000              NaN       1  "
      ]
     },
     "execution_count": 21,
     "metadata": {},
     "output_type": "execute_result"
    }
   ],
   "source": [
    "df.head(10)"
   ]
  },
  {
   "cell_type": "code",
   "execution_count": 22,
   "metadata": {
    "execution": {
     "iopub.execute_input": "2022-06-19T14:43:16.447612Z",
     "iopub.status.busy": "2022-06-19T14:43:16.446642Z",
     "iopub.status.idle": "2022-06-19T14:43:16.461546Z",
     "shell.execute_reply": "2022-06-19T14:43:16.460722Z",
     "shell.execute_reply.started": "2022-06-19T14:43:16.447568Z"
    }
   },
   "outputs": [],
   "source": [
    "df[\"gender\"]= df[\"gender\"].map({'Male': 0,'Female': 1})\n",
    "df[\"ever_married\"]= df[\"ever_married\"].map({'Yes': 0,'No': 1})\n",
    "df[\"work_type\"]= df[\"work_type\"].map({'Private': 0,'Self-employed': 1,'Govt_job': 2,'children': 3,'Never_worked': 4}) \n",
    "df[\"Residence_type\"]= df[\"Residence_type\"].map({'Urban': 0,'Rural': 1})"
   ]
  },
  {
   "cell_type": "code",
   "execution_count": 23,
   "metadata": {
    "execution": {
     "iopub.execute_input": "2022-06-19T14:43:16.714971Z",
     "iopub.status.busy": "2022-06-19T14:43:16.714537Z",
     "iopub.status.idle": "2022-06-19T14:43:16.731064Z",
     "shell.execute_reply": "2022-06-19T14:43:16.730242Z",
     "shell.execute_reply.started": "2022-06-19T14:43:16.714937Z"
    }
   },
   "outputs": [
    {
     "data": {
      "text/html": [
       "<div>\n",
       "<style scoped>\n",
       "    .dataframe tbody tr th:only-of-type {\n",
       "        vertical-align: middle;\n",
       "    }\n",
       "\n",
       "    .dataframe tbody tr th {\n",
       "        vertical-align: top;\n",
       "    }\n",
       "\n",
       "    .dataframe thead th {\n",
       "        text-align: right;\n",
       "    }\n",
       "</style>\n",
       "<table border=\"1\" class=\"dataframe\">\n",
       "  <thead>\n",
       "    <tr style=\"text-align: right;\">\n",
       "      <th></th>\n",
       "      <th>gender</th>\n",
       "      <th>age</th>\n",
       "      <th>hypertension</th>\n",
       "      <th>heart_disease</th>\n",
       "      <th>ever_married</th>\n",
       "      <th>work_type</th>\n",
       "      <th>Residence_type</th>\n",
       "      <th>avg_glucose_level</th>\n",
       "      <th>bmi</th>\n",
       "      <th>smoking_status</th>\n",
       "      <th>stroke</th>\n",
       "    </tr>\n",
       "  </thead>\n",
       "  <tbody>\n",
       "    <tr>\n",
       "      <th>0</th>\n",
       "      <td>0.0</td>\n",
       "      <td>67.0</td>\n",
       "      <td>0</td>\n",
       "      <td>1</td>\n",
       "      <td>0</td>\n",
       "      <td>0</td>\n",
       "      <td>0</td>\n",
       "      <td>228.69</td>\n",
       "      <td>36.600000</td>\n",
       "      <td>formerly smoked</td>\n",
       "      <td>1</td>\n",
       "    </tr>\n",
       "    <tr>\n",
       "      <th>1</th>\n",
       "      <td>1.0</td>\n",
       "      <td>61.0</td>\n",
       "      <td>0</td>\n",
       "      <td>0</td>\n",
       "      <td>0</td>\n",
       "      <td>1</td>\n",
       "      <td>1</td>\n",
       "      <td>202.21</td>\n",
       "      <td>28.893237</td>\n",
       "      <td>never smoked</td>\n",
       "      <td>1</td>\n",
       "    </tr>\n",
       "    <tr>\n",
       "      <th>2</th>\n",
       "      <td>0.0</td>\n",
       "      <td>80.0</td>\n",
       "      <td>0</td>\n",
       "      <td>1</td>\n",
       "      <td>0</td>\n",
       "      <td>0</td>\n",
       "      <td>1</td>\n",
       "      <td>105.92</td>\n",
       "      <td>32.500000</td>\n",
       "      <td>never smoked</td>\n",
       "      <td>1</td>\n",
       "    </tr>\n",
       "    <tr>\n",
       "      <th>3</th>\n",
       "      <td>1.0</td>\n",
       "      <td>49.0</td>\n",
       "      <td>0</td>\n",
       "      <td>0</td>\n",
       "      <td>0</td>\n",
       "      <td>0</td>\n",
       "      <td>0</td>\n",
       "      <td>171.23</td>\n",
       "      <td>34.400000</td>\n",
       "      <td>smokes</td>\n",
       "      <td>1</td>\n",
       "    </tr>\n",
       "    <tr>\n",
       "      <th>4</th>\n",
       "      <td>1.0</td>\n",
       "      <td>79.0</td>\n",
       "      <td>1</td>\n",
       "      <td>0</td>\n",
       "      <td>0</td>\n",
       "      <td>1</td>\n",
       "      <td>1</td>\n",
       "      <td>174.12</td>\n",
       "      <td>24.000000</td>\n",
       "      <td>never smoked</td>\n",
       "      <td>1</td>\n",
       "    </tr>\n",
       "  </tbody>\n",
       "</table>\n",
       "</div>"
      ],
      "text/plain": [
       "   gender   age  hypertension  heart_disease  ever_married  work_type  \\\n",
       "0     0.0  67.0             0              1             0          0   \n",
       "1     1.0  61.0             0              0             0          1   \n",
       "2     0.0  80.0             0              1             0          0   \n",
       "3     1.0  49.0             0              0             0          0   \n",
       "4     1.0  79.0             1              0             0          1   \n",
       "\n",
       "   Residence_type  avg_glucose_level        bmi   smoking_status  stroke  \n",
       "0               0             228.69  36.600000  formerly smoked       1  \n",
       "1               1             202.21  28.893237     never smoked       1  \n",
       "2               1             105.92  32.500000     never smoked       1  \n",
       "3               0             171.23  34.400000           smokes       1  \n",
       "4               1             174.12  24.000000     never smoked       1  "
      ]
     },
     "execution_count": 23,
     "metadata": {},
     "output_type": "execute_result"
    }
   ],
   "source": [
    "df.head()"
   ]
  },
  {
   "cell_type": "code",
   "execution_count": 24,
   "metadata": {
    "execution": {
     "iopub.execute_input": "2022-06-19T14:43:16.968255Z",
     "iopub.status.busy": "2022-06-19T14:43:16.967870Z",
     "iopub.status.idle": "2022-06-19T14:43:16.975679Z",
     "shell.execute_reply": "2022-06-19T14:43:16.974675Z",
     "shell.execute_reply.started": "2022-06-19T14:43:16.968225Z"
    }
   },
   "outputs": [],
   "source": [
    "df[\"smoking_status\"]= df[\"smoking_status\"].map({'formerly smoked': 0,'never smoked': 1,'smokes': 2})"
   ]
  },
  {
   "cell_type": "markdown",
   "metadata": {},
   "source": [
    "Use KNNImputer with 3 nearest neighbors to fill these values"
   ]
  },
  {
   "cell_type": "code",
   "execution_count": 25,
   "metadata": {
    "execution": {
     "iopub.execute_input": "2022-06-19T14:43:17.224076Z",
     "iopub.status.busy": "2022-06-19T14:43:17.223603Z",
     "iopub.status.idle": "2022-06-19T14:43:18.377205Z",
     "shell.execute_reply": "2022-06-19T14:43:18.376154Z",
     "shell.execute_reply.started": "2022-06-19T14:43:17.224037Z"
    }
   },
   "outputs": [
    {
     "data": {
      "text/plain": [
       "array([[ 0.        , 67.        ,  0.        , ..., 36.6       ,\n",
       "         0.        ,  1.        ],\n",
       "       [ 1.        , 61.        ,  0.        , ..., 28.89323691,\n",
       "         1.        ,  1.        ],\n",
       "       [ 0.        , 80.        ,  0.        , ..., 32.5       ,\n",
       "         1.        ,  1.        ],\n",
       "       ...,\n",
       "       [ 1.        , 35.        ,  0.        , ..., 30.6       ,\n",
       "         1.        ,  0.        ],\n",
       "       [ 0.        , 51.        ,  0.        , ..., 25.6       ,\n",
       "         0.        ,  0.        ],\n",
       "       [ 1.        , 44.        ,  0.        , ..., 26.2       ,\n",
       "         0.66666667,  0.        ]])"
      ]
     },
     "execution_count": 25,
     "metadata": {},
     "output_type": "execute_result"
    }
   ],
   "source": [
    "from sklearn.impute import KNNImputer\n",
    "imputer=KNNImputer(n_neighbors=3)\n",
    "df_filled=imputer.fit_transform(df)\n",
    "df_filled"
   ]
  },
  {
   "cell_type": "code",
   "execution_count": 26,
   "metadata": {
    "execution": {
     "iopub.execute_input": "2022-06-19T14:43:18.379549Z",
     "iopub.status.busy": "2022-06-19T14:43:18.379154Z",
     "iopub.status.idle": "2022-06-19T14:43:18.402921Z",
     "shell.execute_reply": "2022-06-19T14:43:18.401691Z",
     "shell.execute_reply.started": "2022-06-19T14:43:18.379516Z"
    }
   },
   "outputs": [
    {
     "data": {
      "text/html": [
       "<div>\n",
       "<style scoped>\n",
       "    .dataframe tbody tr th:only-of-type {\n",
       "        vertical-align: middle;\n",
       "    }\n",
       "\n",
       "    .dataframe tbody tr th {\n",
       "        vertical-align: top;\n",
       "    }\n",
       "\n",
       "    .dataframe thead th {\n",
       "        text-align: right;\n",
       "    }\n",
       "</style>\n",
       "<table border=\"1\" class=\"dataframe\">\n",
       "  <thead>\n",
       "    <tr style=\"text-align: right;\">\n",
       "      <th></th>\n",
       "      <th>gender</th>\n",
       "      <th>age</th>\n",
       "      <th>hypertension</th>\n",
       "      <th>heart_disease</th>\n",
       "      <th>ever_married</th>\n",
       "      <th>work_type</th>\n",
       "      <th>Residence_type</th>\n",
       "      <th>avg_glucose_level</th>\n",
       "      <th>bmi</th>\n",
       "      <th>smoking_status</th>\n",
       "      <th>stroke</th>\n",
       "    </tr>\n",
       "  </thead>\n",
       "  <tbody>\n",
       "    <tr>\n",
       "      <th>0</th>\n",
       "      <td>0.0</td>\n",
       "      <td>67.0</td>\n",
       "      <td>0.0</td>\n",
       "      <td>1.0</td>\n",
       "      <td>0.0</td>\n",
       "      <td>0.0</td>\n",
       "      <td>0.0</td>\n",
       "      <td>228.69</td>\n",
       "      <td>36.600000</td>\n",
       "      <td>0.0</td>\n",
       "      <td>1.0</td>\n",
       "    </tr>\n",
       "    <tr>\n",
       "      <th>1</th>\n",
       "      <td>1.0</td>\n",
       "      <td>61.0</td>\n",
       "      <td>0.0</td>\n",
       "      <td>0.0</td>\n",
       "      <td>0.0</td>\n",
       "      <td>1.0</td>\n",
       "      <td>1.0</td>\n",
       "      <td>202.21</td>\n",
       "      <td>28.893237</td>\n",
       "      <td>1.0</td>\n",
       "      <td>1.0</td>\n",
       "    </tr>\n",
       "    <tr>\n",
       "      <th>2</th>\n",
       "      <td>0.0</td>\n",
       "      <td>80.0</td>\n",
       "      <td>0.0</td>\n",
       "      <td>1.0</td>\n",
       "      <td>0.0</td>\n",
       "      <td>0.0</td>\n",
       "      <td>1.0</td>\n",
       "      <td>105.92</td>\n",
       "      <td>32.500000</td>\n",
       "      <td>1.0</td>\n",
       "      <td>1.0</td>\n",
       "    </tr>\n",
       "    <tr>\n",
       "      <th>3</th>\n",
       "      <td>1.0</td>\n",
       "      <td>49.0</td>\n",
       "      <td>0.0</td>\n",
       "      <td>0.0</td>\n",
       "      <td>0.0</td>\n",
       "      <td>0.0</td>\n",
       "      <td>0.0</td>\n",
       "      <td>171.23</td>\n",
       "      <td>34.400000</td>\n",
       "      <td>2.0</td>\n",
       "      <td>1.0</td>\n",
       "    </tr>\n",
       "    <tr>\n",
       "      <th>4</th>\n",
       "      <td>1.0</td>\n",
       "      <td>79.0</td>\n",
       "      <td>1.0</td>\n",
       "      <td>0.0</td>\n",
       "      <td>0.0</td>\n",
       "      <td>1.0</td>\n",
       "      <td>1.0</td>\n",
       "      <td>174.12</td>\n",
       "      <td>24.000000</td>\n",
       "      <td>1.0</td>\n",
       "      <td>1.0</td>\n",
       "    </tr>\n",
       "  </tbody>\n",
       "</table>\n",
       "</div>"
      ],
      "text/plain": [
       "   gender   age  hypertension  heart_disease  ever_married  work_type  \\\n",
       "0     0.0  67.0           0.0            1.0           0.0        0.0   \n",
       "1     1.0  61.0           0.0            0.0           0.0        1.0   \n",
       "2     0.0  80.0           0.0            1.0           0.0        0.0   \n",
       "3     1.0  49.0           0.0            0.0           0.0        0.0   \n",
       "4     1.0  79.0           1.0            0.0           0.0        1.0   \n",
       "\n",
       "   Residence_type  avg_glucose_level        bmi  smoking_status  stroke  \n",
       "0             0.0             228.69  36.600000             0.0     1.0  \n",
       "1             1.0             202.21  28.893237             1.0     1.0  \n",
       "2             1.0             105.92  32.500000             1.0     1.0  \n",
       "3             0.0             171.23  34.400000             2.0     1.0  \n",
       "4             1.0             174.12  24.000000             1.0     1.0  "
      ]
     },
     "execution_count": 26,
     "metadata": {},
     "output_type": "execute_result"
    }
   ],
   "source": [
    "df = pd.DataFrame(df_filled,columns=df.columns)\n",
    "df.head()"
   ]
  },
  {
   "cell_type": "code",
   "execution_count": 27,
   "metadata": {
    "execution": {
     "iopub.execute_input": "2022-06-19T14:43:18.404851Z",
     "iopub.status.busy": "2022-06-19T14:43:18.404374Z",
     "iopub.status.idle": "2022-06-19T14:43:18.434691Z",
     "shell.execute_reply": "2022-06-19T14:43:18.433937Z",
     "shell.execute_reply.started": "2022-06-19T14:43:18.404817Z"
    }
   },
   "outputs": [
    {
     "data": {
      "text/html": [
       "<div>\n",
       "<style scoped>\n",
       "    .dataframe tbody tr th:only-of-type {\n",
       "        vertical-align: middle;\n",
       "    }\n",
       "\n",
       "    .dataframe tbody tr th {\n",
       "        vertical-align: top;\n",
       "    }\n",
       "\n",
       "    .dataframe thead th {\n",
       "        text-align: right;\n",
       "    }\n",
       "</style>\n",
       "<table border=\"1\" class=\"dataframe\">\n",
       "  <thead>\n",
       "    <tr style=\"text-align: right;\">\n",
       "      <th></th>\n",
       "      <th>gender</th>\n",
       "      <th>age</th>\n",
       "      <th>hypertension</th>\n",
       "      <th>heart_disease</th>\n",
       "      <th>ever_married</th>\n",
       "      <th>work_type</th>\n",
       "      <th>Residence_type</th>\n",
       "      <th>avg_glucose_level</th>\n",
       "      <th>bmi</th>\n",
       "      <th>smoking_status</th>\n",
       "      <th>stroke</th>\n",
       "    </tr>\n",
       "  </thead>\n",
       "  <tbody>\n",
       "    <tr>\n",
       "      <th>0</th>\n",
       "      <td>0.0</td>\n",
       "      <td>67.0</td>\n",
       "      <td>0.0</td>\n",
       "      <td>1.0</td>\n",
       "      <td>0.0</td>\n",
       "      <td>0.0</td>\n",
       "      <td>0.0</td>\n",
       "      <td>228.69</td>\n",
       "      <td>36.600000</td>\n",
       "      <td>0.0</td>\n",
       "      <td>1.0</td>\n",
       "    </tr>\n",
       "    <tr>\n",
       "      <th>1</th>\n",
       "      <td>1.0</td>\n",
       "      <td>61.0</td>\n",
       "      <td>0.0</td>\n",
       "      <td>0.0</td>\n",
       "      <td>0.0</td>\n",
       "      <td>1.0</td>\n",
       "      <td>1.0</td>\n",
       "      <td>202.21</td>\n",
       "      <td>28.893237</td>\n",
       "      <td>1.0</td>\n",
       "      <td>1.0</td>\n",
       "    </tr>\n",
       "    <tr>\n",
       "      <th>2</th>\n",
       "      <td>0.0</td>\n",
       "      <td>80.0</td>\n",
       "      <td>0.0</td>\n",
       "      <td>1.0</td>\n",
       "      <td>0.0</td>\n",
       "      <td>0.0</td>\n",
       "      <td>1.0</td>\n",
       "      <td>105.92</td>\n",
       "      <td>32.500000</td>\n",
       "      <td>1.0</td>\n",
       "      <td>1.0</td>\n",
       "    </tr>\n",
       "    <tr>\n",
       "      <th>3</th>\n",
       "      <td>1.0</td>\n",
       "      <td>49.0</td>\n",
       "      <td>0.0</td>\n",
       "      <td>0.0</td>\n",
       "      <td>0.0</td>\n",
       "      <td>0.0</td>\n",
       "      <td>0.0</td>\n",
       "      <td>171.23</td>\n",
       "      <td>34.400000</td>\n",
       "      <td>2.0</td>\n",
       "      <td>1.0</td>\n",
       "    </tr>\n",
       "    <tr>\n",
       "      <th>4</th>\n",
       "      <td>1.0</td>\n",
       "      <td>79.0</td>\n",
       "      <td>1.0</td>\n",
       "      <td>0.0</td>\n",
       "      <td>0.0</td>\n",
       "      <td>1.0</td>\n",
       "      <td>1.0</td>\n",
       "      <td>174.12</td>\n",
       "      <td>24.000000</td>\n",
       "      <td>1.0</td>\n",
       "      <td>1.0</td>\n",
       "    </tr>\n",
       "    <tr>\n",
       "      <th>5</th>\n",
       "      <td>0.0</td>\n",
       "      <td>81.0</td>\n",
       "      <td>0.0</td>\n",
       "      <td>0.0</td>\n",
       "      <td>0.0</td>\n",
       "      <td>0.0</td>\n",
       "      <td>0.0</td>\n",
       "      <td>186.21</td>\n",
       "      <td>29.000000</td>\n",
       "      <td>0.0</td>\n",
       "      <td>1.0</td>\n",
       "    </tr>\n",
       "    <tr>\n",
       "      <th>6</th>\n",
       "      <td>0.0</td>\n",
       "      <td>74.0</td>\n",
       "      <td>1.0</td>\n",
       "      <td>1.0</td>\n",
       "      <td>0.0</td>\n",
       "      <td>0.0</td>\n",
       "      <td>1.0</td>\n",
       "      <td>70.09</td>\n",
       "      <td>27.400000</td>\n",
       "      <td>1.0</td>\n",
       "      <td>1.0</td>\n",
       "    </tr>\n",
       "    <tr>\n",
       "      <th>7</th>\n",
       "      <td>1.0</td>\n",
       "      <td>69.0</td>\n",
       "      <td>0.0</td>\n",
       "      <td>0.0</td>\n",
       "      <td>1.0</td>\n",
       "      <td>0.0</td>\n",
       "      <td>0.0</td>\n",
       "      <td>94.39</td>\n",
       "      <td>22.800000</td>\n",
       "      <td>1.0</td>\n",
       "      <td>1.0</td>\n",
       "    </tr>\n",
       "    <tr>\n",
       "      <th>8</th>\n",
       "      <td>1.0</td>\n",
       "      <td>59.0</td>\n",
       "      <td>0.0</td>\n",
       "      <td>0.0</td>\n",
       "      <td>0.0</td>\n",
       "      <td>0.0</td>\n",
       "      <td>1.0</td>\n",
       "      <td>76.15</td>\n",
       "      <td>28.893237</td>\n",
       "      <td>1.0</td>\n",
       "      <td>1.0</td>\n",
       "    </tr>\n",
       "    <tr>\n",
       "      <th>9</th>\n",
       "      <td>1.0</td>\n",
       "      <td>78.0</td>\n",
       "      <td>0.0</td>\n",
       "      <td>0.0</td>\n",
       "      <td>0.0</td>\n",
       "      <td>0.0</td>\n",
       "      <td>0.0</td>\n",
       "      <td>58.57</td>\n",
       "      <td>24.200000</td>\n",
       "      <td>1.0</td>\n",
       "      <td>1.0</td>\n",
       "    </tr>\n",
       "  </tbody>\n",
       "</table>\n",
       "</div>"
      ],
      "text/plain": [
       "   gender   age  hypertension  heart_disease  ever_married  work_type  \\\n",
       "0     0.0  67.0           0.0            1.0           0.0        0.0   \n",
       "1     1.0  61.0           0.0            0.0           0.0        1.0   \n",
       "2     0.0  80.0           0.0            1.0           0.0        0.0   \n",
       "3     1.0  49.0           0.0            0.0           0.0        0.0   \n",
       "4     1.0  79.0           1.0            0.0           0.0        1.0   \n",
       "5     0.0  81.0           0.0            0.0           0.0        0.0   \n",
       "6     0.0  74.0           1.0            1.0           0.0        0.0   \n",
       "7     1.0  69.0           0.0            0.0           1.0        0.0   \n",
       "8     1.0  59.0           0.0            0.0           0.0        0.0   \n",
       "9     1.0  78.0           0.0            0.0           0.0        0.0   \n",
       "\n",
       "   Residence_type  avg_glucose_level        bmi  smoking_status  stroke  \n",
       "0             0.0             228.69  36.600000             0.0     1.0  \n",
       "1             1.0             202.21  28.893237             1.0     1.0  \n",
       "2             1.0             105.92  32.500000             1.0     1.0  \n",
       "3             0.0             171.23  34.400000             2.0     1.0  \n",
       "4             1.0             174.12  24.000000             1.0     1.0  \n",
       "5             0.0             186.21  29.000000             0.0     1.0  \n",
       "6             1.0              70.09  27.400000             1.0     1.0  \n",
       "7             0.0              94.39  22.800000             1.0     1.0  \n",
       "8             1.0              76.15  28.893237             1.0     1.0  \n",
       "9             0.0              58.57  24.200000             1.0     1.0  "
      ]
     },
     "execution_count": 27,
     "metadata": {},
     "output_type": "execute_result"
    }
   ],
   "source": [
    "df.head(10)"
   ]
  },
  {
   "cell_type": "code",
   "execution_count": 28,
   "metadata": {
    "execution": {
     "iopub.execute_input": "2022-06-19T14:43:18.436800Z",
     "iopub.status.busy": "2022-06-19T14:43:18.436418Z",
     "iopub.status.idle": "2022-06-19T14:43:18.446981Z",
     "shell.execute_reply": "2022-06-19T14:43:18.446219Z",
     "shell.execute_reply.started": "2022-06-19T14:43:18.436756Z"
    }
   },
   "outputs": [
    {
     "data": {
      "text/plain": [
       "gender               0\n",
       "age                  0\n",
       "hypertension         0\n",
       "heart_disease        0\n",
       "ever_married         0\n",
       "work_type            0\n",
       "Residence_type       0\n",
       "avg_glucose_level    0\n",
       "bmi                  0\n",
       "smoking_status       0\n",
       "stroke               0\n",
       "dtype: int64"
      ]
     },
     "execution_count": 28,
     "metadata": {},
     "output_type": "execute_result"
    }
   ],
   "source": [
    "df.isnull().sum()"
   ]
  },
  {
   "cell_type": "markdown",
   "metadata": {},
   "source": [
    "# Data Visualization"
   ]
  },
  {
   "cell_type": "code",
   "execution_count": 29,
   "metadata": {
    "execution": {
     "iopub.execute_input": "2022-06-19T14:43:18.449128Z",
     "iopub.status.busy": "2022-06-19T14:43:18.448226Z",
     "iopub.status.idle": "2022-06-19T14:43:18.473764Z",
     "shell.execute_reply": "2022-06-19T14:43:18.472773Z",
     "shell.execute_reply.started": "2022-06-19T14:43:18.449090Z"
    }
   },
   "outputs": [],
   "source": [
    "# Create a copy of the dataframe for visualization\n",
    "df_v = df.copy()\n",
    "df_v[\"hypertension\"]= df[\"hypertension\"].map({1: \"Yes\",0: \"No\"})\n",
    "df_v[\"stroke\"]= df[\"stroke\"].map({1: \"Yes\",0: \"No\"})\n",
    "df_v[\"heart_disease\"]= df[\"heart_disease\"] .map({1: \"Yes\" ,0: \"No\"})\n",
    "df_v[\"gender\"]= df[\"gender\"].map({0: 'Male',1: 'Female'})\n",
    "df_v[\"ever_married\"]= df[\"ever_married\"].map({0 : 'Yes',1: 'No'})\n",
    "df_v[\"work_type\"]= df[\"work_type\"].map({0: 'Private',1: 'Self-employed',2: 'Govt_job',3: 'children',4: 'Never_worked'}) \n",
    "df_v[\"Residence_type\"]= df[\"Residence_type\"].map({0: 'Urban',1: 'Rural'})\n",
    "df_v[\"smoking_status\"]= df[\"smoking_status\"].map({0:'formerly smoked',1: 'never smoked',2: 'smokes'})"
   ]
  },
  {
   "cell_type": "code",
   "execution_count": 30,
   "metadata": {
    "execution": {
     "iopub.execute_input": "2022-06-19T14:43:18.514384Z",
     "iopub.status.busy": "2022-06-19T14:43:18.513990Z",
     "iopub.status.idle": "2022-06-19T14:43:18.537116Z",
     "shell.execute_reply": "2022-06-19T14:43:18.536195Z",
     "shell.execute_reply.started": "2022-06-19T14:43:18.514351Z"
    }
   },
   "outputs": [
    {
     "data": {
      "text/html": [
       "<div>\n",
       "<style scoped>\n",
       "    .dataframe tbody tr th:only-of-type {\n",
       "        vertical-align: middle;\n",
       "    }\n",
       "\n",
       "    .dataframe tbody tr th {\n",
       "        vertical-align: top;\n",
       "    }\n",
       "\n",
       "    .dataframe thead th {\n",
       "        text-align: right;\n",
       "    }\n",
       "</style>\n",
       "<table border=\"1\" class=\"dataframe\">\n",
       "  <thead>\n",
       "    <tr style=\"text-align: right;\">\n",
       "      <th></th>\n",
       "      <th>gender</th>\n",
       "      <th>age</th>\n",
       "      <th>hypertension</th>\n",
       "      <th>heart_disease</th>\n",
       "      <th>ever_married</th>\n",
       "      <th>work_type</th>\n",
       "      <th>Residence_type</th>\n",
       "      <th>avg_glucose_level</th>\n",
       "      <th>bmi</th>\n",
       "      <th>smoking_status</th>\n",
       "      <th>stroke</th>\n",
       "    </tr>\n",
       "  </thead>\n",
       "  <tbody>\n",
       "    <tr>\n",
       "      <th>0</th>\n",
       "      <td>Male</td>\n",
       "      <td>67.0</td>\n",
       "      <td>No</td>\n",
       "      <td>Yes</td>\n",
       "      <td>Yes</td>\n",
       "      <td>Private</td>\n",
       "      <td>Urban</td>\n",
       "      <td>228.69</td>\n",
       "      <td>36.600000</td>\n",
       "      <td>formerly smoked</td>\n",
       "      <td>Yes</td>\n",
       "    </tr>\n",
       "    <tr>\n",
       "      <th>1</th>\n",
       "      <td>Female</td>\n",
       "      <td>61.0</td>\n",
       "      <td>No</td>\n",
       "      <td>No</td>\n",
       "      <td>Yes</td>\n",
       "      <td>Self-employed</td>\n",
       "      <td>Rural</td>\n",
       "      <td>202.21</td>\n",
       "      <td>28.893237</td>\n",
       "      <td>never smoked</td>\n",
       "      <td>Yes</td>\n",
       "    </tr>\n",
       "    <tr>\n",
       "      <th>2</th>\n",
       "      <td>Male</td>\n",
       "      <td>80.0</td>\n",
       "      <td>No</td>\n",
       "      <td>Yes</td>\n",
       "      <td>Yes</td>\n",
       "      <td>Private</td>\n",
       "      <td>Rural</td>\n",
       "      <td>105.92</td>\n",
       "      <td>32.500000</td>\n",
       "      <td>never smoked</td>\n",
       "      <td>Yes</td>\n",
       "    </tr>\n",
       "    <tr>\n",
       "      <th>3</th>\n",
       "      <td>Female</td>\n",
       "      <td>49.0</td>\n",
       "      <td>No</td>\n",
       "      <td>No</td>\n",
       "      <td>Yes</td>\n",
       "      <td>Private</td>\n",
       "      <td>Urban</td>\n",
       "      <td>171.23</td>\n",
       "      <td>34.400000</td>\n",
       "      <td>smokes</td>\n",
       "      <td>Yes</td>\n",
       "    </tr>\n",
       "    <tr>\n",
       "      <th>4</th>\n",
       "      <td>Female</td>\n",
       "      <td>79.0</td>\n",
       "      <td>Yes</td>\n",
       "      <td>No</td>\n",
       "      <td>Yes</td>\n",
       "      <td>Self-employed</td>\n",
       "      <td>Rural</td>\n",
       "      <td>174.12</td>\n",
       "      <td>24.000000</td>\n",
       "      <td>never smoked</td>\n",
       "      <td>Yes</td>\n",
       "    </tr>\n",
       "    <tr>\n",
       "      <th>5</th>\n",
       "      <td>Male</td>\n",
       "      <td>81.0</td>\n",
       "      <td>No</td>\n",
       "      <td>No</td>\n",
       "      <td>Yes</td>\n",
       "      <td>Private</td>\n",
       "      <td>Urban</td>\n",
       "      <td>186.21</td>\n",
       "      <td>29.000000</td>\n",
       "      <td>formerly smoked</td>\n",
       "      <td>Yes</td>\n",
       "    </tr>\n",
       "    <tr>\n",
       "      <th>6</th>\n",
       "      <td>Male</td>\n",
       "      <td>74.0</td>\n",
       "      <td>Yes</td>\n",
       "      <td>Yes</td>\n",
       "      <td>Yes</td>\n",
       "      <td>Private</td>\n",
       "      <td>Rural</td>\n",
       "      <td>70.09</td>\n",
       "      <td>27.400000</td>\n",
       "      <td>never smoked</td>\n",
       "      <td>Yes</td>\n",
       "    </tr>\n",
       "    <tr>\n",
       "      <th>7</th>\n",
       "      <td>Female</td>\n",
       "      <td>69.0</td>\n",
       "      <td>No</td>\n",
       "      <td>No</td>\n",
       "      <td>No</td>\n",
       "      <td>Private</td>\n",
       "      <td>Urban</td>\n",
       "      <td>94.39</td>\n",
       "      <td>22.800000</td>\n",
       "      <td>never smoked</td>\n",
       "      <td>Yes</td>\n",
       "    </tr>\n",
       "    <tr>\n",
       "      <th>8</th>\n",
       "      <td>Female</td>\n",
       "      <td>59.0</td>\n",
       "      <td>No</td>\n",
       "      <td>No</td>\n",
       "      <td>Yes</td>\n",
       "      <td>Private</td>\n",
       "      <td>Rural</td>\n",
       "      <td>76.15</td>\n",
       "      <td>28.893237</td>\n",
       "      <td>never smoked</td>\n",
       "      <td>Yes</td>\n",
       "    </tr>\n",
       "    <tr>\n",
       "      <th>9</th>\n",
       "      <td>Female</td>\n",
       "      <td>78.0</td>\n",
       "      <td>No</td>\n",
       "      <td>No</td>\n",
       "      <td>Yes</td>\n",
       "      <td>Private</td>\n",
       "      <td>Urban</td>\n",
       "      <td>58.57</td>\n",
       "      <td>24.200000</td>\n",
       "      <td>never smoked</td>\n",
       "      <td>Yes</td>\n",
       "    </tr>\n",
       "  </tbody>\n",
       "</table>\n",
       "</div>"
      ],
      "text/plain": [
       "   gender   age hypertension heart_disease ever_married      work_type  \\\n",
       "0    Male  67.0           No           Yes          Yes        Private   \n",
       "1  Female  61.0           No            No          Yes  Self-employed   \n",
       "2    Male  80.0           No           Yes          Yes        Private   \n",
       "3  Female  49.0           No            No          Yes        Private   \n",
       "4  Female  79.0          Yes            No          Yes  Self-employed   \n",
       "5    Male  81.0           No            No          Yes        Private   \n",
       "6    Male  74.0          Yes           Yes          Yes        Private   \n",
       "7  Female  69.0           No            No           No        Private   \n",
       "8  Female  59.0           No            No          Yes        Private   \n",
       "9  Female  78.0           No            No          Yes        Private   \n",
       "\n",
       "  Residence_type  avg_glucose_level        bmi   smoking_status stroke  \n",
       "0          Urban             228.69  36.600000  formerly smoked    Yes  \n",
       "1          Rural             202.21  28.893237     never smoked    Yes  \n",
       "2          Rural             105.92  32.500000     never smoked    Yes  \n",
       "3          Urban             171.23  34.400000           smokes    Yes  \n",
       "4          Rural             174.12  24.000000     never smoked    Yes  \n",
       "5          Urban             186.21  29.000000  formerly smoked    Yes  \n",
       "6          Rural              70.09  27.400000     never smoked    Yes  \n",
       "7          Urban              94.39  22.800000     never smoked    Yes  \n",
       "8          Rural              76.15  28.893237     never smoked    Yes  \n",
       "9          Urban              58.57  24.200000     never smoked    Yes  "
      ]
     },
     "execution_count": 30,
     "metadata": {},
     "output_type": "execute_result"
    }
   ],
   "source": [
    "df_v.head(10)"
   ]
  },
  {
   "cell_type": "code",
   "execution_count": 31,
   "metadata": {
    "execution": {
     "iopub.execute_input": "2022-06-19T14:43:18.778380Z",
     "iopub.status.busy": "2022-06-19T14:43:18.776765Z",
     "iopub.status.idle": "2022-06-19T14:43:18.990808Z",
     "shell.execute_reply": "2022-06-19T14:43:18.989807Z",
     "shell.execute_reply.started": "2022-06-19T14:43:18.778325Z"
    }
   },
   "outputs": [],
   "source": [
    "import seaborn as sns\n",
    "import matplotlib.pyplot as plt"
   ]
  },
  {
   "cell_type": "markdown",
   "metadata": {},
   "source": [
    "## Count plot for discrete features"
   ]
  },
  {
   "cell_type": "code",
   "execution_count": 32,
   "metadata": {
    "execution": {
     "iopub.execute_input": "2022-06-19T14:43:19.031373Z",
     "iopub.status.busy": "2022-06-19T14:43:19.030989Z",
     "iopub.status.idle": "2022-06-19T14:43:19.036983Z",
     "shell.execute_reply": "2022-06-19T14:43:19.035722Z",
     "shell.execute_reply.started": "2022-06-19T14:43:19.031343Z"
    }
   },
   "outputs": [],
   "source": [
    "def count_plot(feature):\n",
    "    sns.countplot(x=feature,data=df_v)\n",
    "    plt.show()\n"
   ]
  },
  {
   "cell_type": "code",
   "execution_count": 33,
   "metadata": {
    "execution": {
     "iopub.execute_input": "2022-06-19T14:43:19.287957Z",
     "iopub.status.busy": "2022-06-19T14:43:19.287243Z",
     "iopub.status.idle": "2022-06-19T14:43:19.295416Z",
     "shell.execute_reply": "2022-06-19T14:43:19.294472Z",
     "shell.execute_reply.started": "2022-06-19T14:43:19.287910Z"
    }
   },
   "outputs": [
    {
     "data": {
      "text/plain": [
       "Index(['gender', 'age', 'hypertension', 'heart_disease', 'ever_married',\n",
       "       'work_type', 'Residence_type', 'avg_glucose_level', 'bmi',\n",
       "       'smoking_status', 'stroke'],\n",
       "      dtype='object')"
      ]
     },
     "execution_count": 33,
     "metadata": {},
     "output_type": "execute_result"
    }
   ],
   "source": [
    "df_v.columns"
   ]
  },
  {
   "cell_type": "code",
   "execution_count": 34,
   "metadata": {
    "execution": {
     "iopub.execute_input": "2022-06-19T14:43:19.543617Z",
     "iopub.status.busy": "2022-06-19T14:43:19.543066Z",
     "iopub.status.idle": "2022-06-19T14:43:20.889513Z",
     "shell.execute_reply": "2022-06-19T14:43:20.887948Z",
     "shell.execute_reply.started": "2022-06-19T14:43:19.543578Z"
    }
   },
   "outputs": [
    {
     "data": {
      "image/png": "[encoded data removed]",
      "text/plain": [
       "<Figure size 432x288 with 1 Axes>"
      ]
     },
     "metadata": {
      "needs_background": "light"
     },
     "output_type": "display_data"
    },
    {
     "data": {
      "image/png": "[encoded data removed]",
      "text/plain": [
       "<Figure size 432x288 with 1 Axes>"
      ]
     },
     "metadata": {
      "needs_background": "light"
     },
     "output_type": "display_data"
    },
    {
     "data": {
      "image/png": "[encoded data removed]",
      "text/plain": [
       "<Figure size 432x288 with 1 Axes>"
      ]
     },
     "metadata": {
      "needs_background": "light"
     },
     "output_type": "display_data"
    },
    {
     "data": {
      "image/png": "[encoded data removed]",
      "text/plain": [
       "<Figure size 432x288 with 1 Axes>"
      ]
     },
     "metadata": {
      "needs_background": "light"
     },
     "output_type": "display_data"
    },
    {
     "data": {
      "image/png": "[encoded data removed]",
      "text/plain": [
       "<Figure size 432x288 with 1 Axes>"
      ]
     },
     "metadata": {
      "needs_background": "light"
     },
     "output_type": "display_data"
    },
    {
     "data": {
      "image/png": "[encoded data removed]",
      "text/plain": [
       "<Figure size 432x288 with 1 Axes>"
      ]
     },
     "metadata": {
      "needs_background": "light"
     },
     "output_type": "display_data"
    },
    {
     "data": {
      "image/png": "[encoded data removed]",
      "text/plain": [
       "<Figure size 432x288 with 1 Axes>"
      ]
     },
     "metadata": {
      "needs_background": "light"
     },
     "output_type": "display_data"
    },
    {
     "data": {
      "image/png": "[encoded data removed]",
      "text/plain": [
       "<Figure size 432x288 with 1 Axes>"
      ]
     },
     "metadata": {
      "needs_background": "light"
     },
     "output_type": "display_data"
    }
   ],
   "source": [
    "for cols in ['gender', 'hypertension', 'heart_disease', 'ever_married','work_type', 'Residence_type','smoking_status', 'stroke']:\n",
    "    count_plot(cols)"
   ]
  },
  {
   "cell_type": "markdown",
   "metadata": {},
   "source": [
    "## Distplot for continuos features"
   ]
  },
  {
   "cell_type": "code",
   "execution_count": 35,
   "metadata": {
    "execution": {
     "iopub.execute_input": "2022-06-19T14:43:20.892093Z",
     "iopub.status.busy": "2022-06-19T14:43:20.891640Z",
     "iopub.status.idle": "2022-06-19T14:43:20.899329Z",
     "shell.execute_reply": "2022-06-19T14:43:20.898329Z",
     "shell.execute_reply.started": "2022-06-19T14:43:20.892058Z"
    }
   },
   "outputs": [],
   "source": [
    "def distplot(x):\n",
    "    ax = sns.distplot(df_v[x], rug=True, rug_kws={\"color\": \"g\"},\n",
    "                  kde_kws={\"color\": \"k\", \"lw\": 3, \"label\": \"KDE\"},\n",
    "                  hist_kws={\"histtype\": \"step\", \"linewidth\": 3,\n",
    "                            \"alpha\": 1, \"color\": \"g\"})\n",
    "    plt.show()"
   ]
  },
  {
   "cell_type": "code",
   "execution_count": 36,
   "metadata": {
    "execution": {
     "iopub.execute_input": "2022-06-19T14:43:20.900976Z",
     "iopub.status.busy": "2022-06-19T14:43:20.900546Z",
     "iopub.status.idle": "2022-06-19T14:43:21.938520Z",
     "shell.execute_reply": "2022-06-19T14:43:21.937551Z",
     "shell.execute_reply.started": "2022-06-19T14:43:20.900945Z"
    }
   },
   "outputs": [
    {
     "name": "stderr",
     "output_type": "stream",
     "text": [
      "C:\\ProgramData\\Anaconda3\\lib\\site-packages\\seaborn\\distributions.py:2551: FutureWarning: `distplot` is a deprecated function and will be removed in a future version. Please adapt your code to use either `displot` (a figure-level function with similar flexibility) or `histplot` (an axes-level function for histograms).\n",
      "  warnings.warn(msg, FutureWarning)\n",
      "C:\\ProgramData\\Anaconda3\\lib\\site-packages\\seaborn\\distributions.py:2055: FutureWarning: The `axis` variable is no longer used and will be removed. Instead, assign variables directly to `x` or `y`.\n",
      "  warnings.warn(msg, FutureWarning)\n"
     ]
    },
    {
     "data": {
      "image/png": "[encoded data removed]",
      "text/plain": [
       "<Figure size 432x288 with 1 Axes>"
      ]
     },
     "metadata": {
      "needs_background": "light"
     },
     "output_type": "display_data"
    },
    {
     "name": "stderr",
     "output_type": "stream",
     "text": [
      "C:\\ProgramData\\Anaconda3\\lib\\site-packages\\seaborn\\distributions.py:2551: FutureWarning: `distplot` is a deprecated function and will be removed in a future version. Please adapt your code to use either `displot` (a figure-level function with similar flexibility) or `histplot` (an axes-level function for histograms).\n",
      "  warnings.warn(msg, FutureWarning)\n",
      "C:\\ProgramData\\Anaconda3\\lib\\site-packages\\seaborn\\distributions.py:2055: FutureWarning: The `axis` variable is no longer used and will be removed. Instead, assign variables directly to `x` or `y`.\n",
      "  warnings.warn(msg, FutureWarning)\n"
     ]
    },
    {
     "data": {
      "image/png": "[encoded data removed]",
      "text/plain": [
       "<Figure size 432x288 with 1 Axes>"
      ]
     },
     "metadata": {
      "needs_background": "light"
     },
     "output_type": "display_data"
    },
    {
     "name": "stderr",
     "output_type": "stream",
     "text": [
      "C:\\ProgramData\\Anaconda3\\lib\\site-packages\\seaborn\\distributions.py:2551: FutureWarning: `distplot` is a deprecated function and will be removed in a future version. Please adapt your code to use either `displot` (a figure-level function with similar flexibility) or `histplot` (an axes-level function for histograms).\n",
      "  warnings.warn(msg, FutureWarning)\n",
      "C:\\ProgramData\\Anaconda3\\lib\\site-packages\\seaborn\\distributions.py:2055: FutureWarning: The `axis` variable is no longer used and will be removed. Instead, assign variables directly to `x` or `y`.\n",
      "  warnings.warn(msg, FutureWarning)\n"
     ]
    },
    {
     "data": {
      "image/png": "[encoded data removed]",
      "text/plain": [
       "<Figure size 432x288 with 1 Axes>"
      ]
     },
     "metadata": {
      "needs_background": "light"
     },
     "output_type": "display_data"
    }
   ],
   "source": [
    "for cols in [ 'age', 'avg_glucose_level', 'bmi']:\n",
    "    distplot(cols)"
   ]
  },
  {
   "cell_type": "markdown",
   "metadata": {},
   "source": [
    "## Use count plot to find the number of smokers in each discrete feature"
   ]
  },
  {
   "cell_type": "code",
   "execution_count": 37,
   "metadata": {
    "execution": {
     "iopub.execute_input": "2022-06-19T14:43:21.940652Z",
     "iopub.status.busy": "2022-06-19T14:43:21.940310Z",
     "iopub.status.idle": "2022-06-19T14:43:21.946277Z",
     "shell.execute_reply": "2022-06-19T14:43:21.945206Z",
     "shell.execute_reply.started": "2022-06-19T14:43:21.940622Z"
    }
   },
   "outputs": [],
   "source": [
    "def count_plot_stroke(feature):\n",
    "    sns.countplot(x=feature,data=df_v,hue='stroke')\n",
    "    plt.show()"
   ]
  },
  {
   "cell_type": "code",
   "execution_count": 38,
   "metadata": {
    "execution": {
     "iopub.execute_input": "2022-06-19T14:43:21.948132Z",
     "iopub.status.busy": "2022-06-19T14:43:21.947458Z",
     "iopub.status.idle": "2022-06-19T14:43:23.522668Z",
     "shell.execute_reply": "2022-06-19T14:43:23.521555Z",
     "shell.execute_reply.started": "2022-06-19T14:43:21.948084Z"
    }
   },
   "outputs": [
    {
     "data": {
      "image/png": "[encoded data removed]",
      "text/plain": [
       "<Figure size 432x288 with 1 Axes>"
      ]
     },
     "metadata": {
      "needs_background": "light"
     },
     "output_type": "display_data"
    },
    {
     "data": {
      "image/png": "[encoded data removed]",
      "text/plain": [
       "<Figure size 432x288 with 1 Axes>"
      ]
     },
     "metadata": {
      "needs_background": "light"
     },
     "output_type": "display_data"
    },
    {
     "data": {
      "image/png": "[encoded data removed]",
      "text/plain": [
       "<Figure size 432x288 with 1 Axes>"
      ]
     },
     "metadata": {
      "needs_background": "light"
     },
     "output_type": "display_data"
    },
    {
     "data": {
      "image/png": "[encoded data removed]",
      "text/plain": [
       "<Figure size 432x288 with 1 Axes>"
      ]
     },
     "metadata": {
      "needs_background": "light"
     },
     "output_type": "display_data"
    },
    {
     "data": {
      "image/png": "[encoded data removed]",
      "text/plain": [
       "<Figure size 432x288 with 1 Axes>"
      ]
     },
     "metadata": {
      "needs_background": "light"
     },
     "output_type": "display_data"
    },
    {
     "data": {
      "image/png": "[encoded data removed]",
      "text/plain": [
       "<Figure size 432x288 with 1 Axes>"
      ]
     },
     "metadata": {
      "needs_background": "light"
     },
     "output_type": "display_data"
    },
    {
     "data": {
      "image/png": "[encoded data removed]",
      "text/plain": [
       "<Figure size 432x288 with 1 Axes>"
      ]
     },
     "metadata": {
      "needs_background": "light"
     },
     "output_type": "display_data"
    }
   ],
   "source": [
    "for cols in ['gender', 'hypertension', 'heart_disease', 'ever_married','work_type', 'Residence_type','smoking_status']:\n",
    "    count_plot_stroke(cols)"
   ]
  },
  {
   "cell_type": "markdown",
   "metadata": {},
   "source": [
    "## Use box and whisker plot to find the number of smokers in each continuos feature"
   ]
  },
  {
   "cell_type": "code",
   "execution_count": 39,
   "metadata": {
    "execution": {
     "iopub.execute_input": "2022-06-19T14:43:23.524385Z",
     "iopub.status.busy": "2022-06-19T14:43:23.523969Z",
     "iopub.status.idle": "2022-06-19T14:43:23.529905Z",
     "shell.execute_reply": "2022-06-19T14:43:23.528652Z",
     "shell.execute_reply.started": "2022-06-19T14:43:23.524352Z"
    }
   },
   "outputs": [],
   "source": [
    "def boxplot(feature):\n",
    "    g = sns.catplot(x=\"stroke\",y=feature,data=df_v,kind=\"box\")\n",
    "plt.show()\n"
   ]
  },
  {
   "cell_type": "code",
   "execution_count": 40,
   "metadata": {
    "execution": {
     "iopub.execute_input": "2022-06-19T14:43:23.531986Z",
     "iopub.status.busy": "2022-06-19T14:43:23.531396Z",
     "iopub.status.idle": "2022-06-19T14:43:24.321111Z",
     "shell.execute_reply": "2022-06-19T14:43:24.320343Z",
     "shell.execute_reply.started": "2022-06-19T14:43:23.531950Z"
    }
   },
   "outputs": [
    {
     "data": {
      "image/png": "[encoded data removed]",
      "text/plain": [
       "<Figure size 360x360 with 1 Axes>"
      ]
     },
     "metadata": {
      "needs_background": "light"
     },
     "output_type": "display_data"
    },
    {
     "data": {
      "image/png": "[encoded data removed]",
      "text/plain": [
       "<Figure size 360x360 with 1 Axes>"
      ]
     },
     "metadata": {
      "needs_background": "light"
     },
     "output_type": "display_data"
    },
    {
     "data": {
      "image/png": "[encoded data removed]",
      "text/plain": [
       "<Figure size 360x360 with 1 Axes>"
      ]
     },
     "metadata": {
      "needs_background": "light"
     },
     "output_type": "display_data"
    }
   ],
   "source": [
    "for cols in [ 'age', 'avg_glucose_level', 'bmi']:\n",
    "    boxplot(cols)"
   ]
  },
  {
   "cell_type": "markdown",
   "metadata": {},
   "source": [
    "## Assumptions that can be made from Data visualization\n",
    "\n",
    "Being unmarried reduces your risk of a stroke\n",
    "\n",
    "Being a smoker or a formerly smoker increases your risk of having a stroke\n",
    "\n",
    "more than 25% of stroke cases They had hypertension\n",
    "\n",
    "Female and male both have equal number of stroke cases while there is not any single case of stroke in other gender type.\n",
    "\n",
    "Patient with private job have more number stroke cases then patient who are self employed or have a government job\n",
    "\n",
    "Stroke has the highest correlation with age\n",
    "As people start to age the risk of having a stroke is increasing most of stroke cases belong to 60-80 age group that means most of patients are in their older age.\n",
    "\n",
    "Patients with stroke having higher avg_glucose_level"
   ]
  },
  {
   "cell_type": "markdown",
   "metadata": {},
   "source": [
    "## Outlier Removal"
   ]
  },
  {
   "cell_type": "code",
   "execution_count": 41,
   "metadata": {
    "execution": {
     "iopub.execute_input": "2022-06-19T14:43:24.323097Z",
     "iopub.status.busy": "2022-06-19T14:43:24.322093Z",
     "iopub.status.idle": "2022-06-19T14:43:24.346096Z",
     "shell.execute_reply": "2022-06-19T14:43:24.345108Z",
     "shell.execute_reply.started": "2022-06-19T14:43:24.322928Z"
    }
   },
   "outputs": [
    {
     "data": {
      "text/html": [
       "<div>\n",
       "<style scoped>\n",
       "    .dataframe tbody tr th:only-of-type {\n",
       "        vertical-align: middle;\n",
       "    }\n",
       "\n",
       "    .dataframe tbody tr th {\n",
       "        vertical-align: top;\n",
       "    }\n",
       "\n",
       "    .dataframe thead th {\n",
       "        text-align: right;\n",
       "    }\n",
       "</style>\n",
       "<table border=\"1\" class=\"dataframe\">\n",
       "  <thead>\n",
       "    <tr style=\"text-align: right;\">\n",
       "      <th></th>\n",
       "      <th>gender</th>\n",
       "      <th>age</th>\n",
       "      <th>hypertension</th>\n",
       "      <th>heart_disease</th>\n",
       "      <th>ever_married</th>\n",
       "      <th>work_type</th>\n",
       "      <th>Residence_type</th>\n",
       "      <th>avg_glucose_level</th>\n",
       "      <th>bmi</th>\n",
       "      <th>smoking_status</th>\n",
       "      <th>stroke</th>\n",
       "    </tr>\n",
       "  </thead>\n",
       "  <tbody>\n",
       "    <tr>\n",
       "      <th>544</th>\n",
       "      <td>0.0</td>\n",
       "      <td>42.0</td>\n",
       "      <td>0.0</td>\n",
       "      <td>0.0</td>\n",
       "      <td>0.0</td>\n",
       "      <td>0.0</td>\n",
       "      <td>1.0</td>\n",
       "      <td>210.48</td>\n",
       "      <td>71.9</td>\n",
       "      <td>1.000000</td>\n",
       "      <td>0.0</td>\n",
       "    </tr>\n",
       "    <tr>\n",
       "      <th>928</th>\n",
       "      <td>1.0</td>\n",
       "      <td>23.0</td>\n",
       "      <td>1.0</td>\n",
       "      <td>0.0</td>\n",
       "      <td>1.0</td>\n",
       "      <td>0.0</td>\n",
       "      <td>0.0</td>\n",
       "      <td>70.03</td>\n",
       "      <td>78.0</td>\n",
       "      <td>2.000000</td>\n",
       "      <td>0.0</td>\n",
       "    </tr>\n",
       "    <tr>\n",
       "      <th>2128</th>\n",
       "      <td>0.0</td>\n",
       "      <td>17.0</td>\n",
       "      <td>1.0</td>\n",
       "      <td>0.0</td>\n",
       "      <td>1.0</td>\n",
       "      <td>0.0</td>\n",
       "      <td>1.0</td>\n",
       "      <td>61.67</td>\n",
       "      <td>97.6</td>\n",
       "      <td>1.333333</td>\n",
       "      <td>0.0</td>\n",
       "    </tr>\n",
       "    <tr>\n",
       "      <th>4209</th>\n",
       "      <td>0.0</td>\n",
       "      <td>38.0</td>\n",
       "      <td>1.0</td>\n",
       "      <td>0.0</td>\n",
       "      <td>0.0</td>\n",
       "      <td>0.0</td>\n",
       "      <td>1.0</td>\n",
       "      <td>56.90</td>\n",
       "      <td>92.0</td>\n",
       "      <td>1.000000</td>\n",
       "      <td>0.0</td>\n",
       "    </tr>\n",
       "  </tbody>\n",
       "</table>\n",
       "</div>"
      ],
      "text/plain": [
       "      gender   age  hypertension  heart_disease  ever_married  work_type  \\\n",
       "544      0.0  42.0           0.0            0.0           0.0        0.0   \n",
       "928      1.0  23.0           1.0            0.0           1.0        0.0   \n",
       "2128     0.0  17.0           1.0            0.0           1.0        0.0   \n",
       "4209     0.0  38.0           1.0            0.0           0.0        0.0   \n",
       "\n",
       "      Residence_type  avg_glucose_level   bmi  smoking_status  stroke  \n",
       "544              1.0             210.48  71.9        1.000000     0.0  \n",
       "928              0.0              70.03  78.0        2.000000     0.0  \n",
       "2128             1.0              61.67  97.6        1.333333     0.0  \n",
       "4209             1.0              56.90  92.0        1.000000     0.0  "
      ]
     },
     "execution_count": 41,
     "metadata": {},
     "output_type": "execute_result"
    }
   ],
   "source": [
    "df[df['bmi'] > 70]"
   ]
  },
  {
   "cell_type": "code",
   "execution_count": 42,
   "metadata": {
    "execution": {
     "iopub.execute_input": "2022-06-19T14:43:24.348036Z",
     "iopub.status.busy": "2022-06-19T14:43:24.347258Z",
     "iopub.status.idle": "2022-06-19T14:43:24.372909Z",
     "shell.execute_reply": "2022-06-19T14:43:24.372069Z",
     "shell.execute_reply.started": "2022-06-19T14:43:24.347883Z"
    }
   },
   "outputs": [
    {
     "data": {
      "text/html": [
       "<div>\n",
       "<style scoped>\n",
       "    .dataframe tbody tr th:only-of-type {\n",
       "        vertical-align: middle;\n",
       "    }\n",
       "\n",
       "    .dataframe tbody tr th {\n",
       "        vertical-align: top;\n",
       "    }\n",
       "\n",
       "    .dataframe thead th {\n",
       "        text-align: right;\n",
       "    }\n",
       "</style>\n",
       "<table border=\"1\" class=\"dataframe\">\n",
       "  <thead>\n",
       "    <tr style=\"text-align: right;\">\n",
       "      <th></th>\n",
       "      <th>gender</th>\n",
       "      <th>age</th>\n",
       "      <th>hypertension</th>\n",
       "      <th>heart_disease</th>\n",
       "      <th>ever_married</th>\n",
       "      <th>work_type</th>\n",
       "      <th>Residence_type</th>\n",
       "      <th>avg_glucose_level</th>\n",
       "      <th>bmi</th>\n",
       "      <th>smoking_status</th>\n",
       "      <th>stroke</th>\n",
       "    </tr>\n",
       "  </thead>\n",
       "  <tbody>\n",
       "    <tr>\n",
       "      <th>0</th>\n",
       "      <td>Male</td>\n",
       "      <td>67.0</td>\n",
       "      <td>No</td>\n",
       "      <td>Yes</td>\n",
       "      <td>Yes</td>\n",
       "      <td>Private</td>\n",
       "      <td>Urban</td>\n",
       "      <td>228.69</td>\n",
       "      <td>36.600000</td>\n",
       "      <td>formerly smoked</td>\n",
       "      <td>Yes</td>\n",
       "    </tr>\n",
       "    <tr>\n",
       "      <th>1</th>\n",
       "      <td>Female</td>\n",
       "      <td>61.0</td>\n",
       "      <td>No</td>\n",
       "      <td>No</td>\n",
       "      <td>Yes</td>\n",
       "      <td>Self-employed</td>\n",
       "      <td>Rural</td>\n",
       "      <td>202.21</td>\n",
       "      <td>28.893237</td>\n",
       "      <td>never smoked</td>\n",
       "      <td>Yes</td>\n",
       "    </tr>\n",
       "    <tr>\n",
       "      <th>2</th>\n",
       "      <td>Male</td>\n",
       "      <td>80.0</td>\n",
       "      <td>No</td>\n",
       "      <td>Yes</td>\n",
       "      <td>Yes</td>\n",
       "      <td>Private</td>\n",
       "      <td>Rural</td>\n",
       "      <td>105.92</td>\n",
       "      <td>32.500000</td>\n",
       "      <td>never smoked</td>\n",
       "      <td>Yes</td>\n",
       "    </tr>\n",
       "    <tr>\n",
       "      <th>3</th>\n",
       "      <td>Female</td>\n",
       "      <td>49.0</td>\n",
       "      <td>No</td>\n",
       "      <td>No</td>\n",
       "      <td>Yes</td>\n",
       "      <td>Private</td>\n",
       "      <td>Urban</td>\n",
       "      <td>171.23</td>\n",
       "      <td>34.400000</td>\n",
       "      <td>smokes</td>\n",
       "      <td>Yes</td>\n",
       "    </tr>\n",
       "    <tr>\n",
       "      <th>4</th>\n",
       "      <td>Female</td>\n",
       "      <td>79.0</td>\n",
       "      <td>Yes</td>\n",
       "      <td>No</td>\n",
       "      <td>Yes</td>\n",
       "      <td>Self-employed</td>\n",
       "      <td>Rural</td>\n",
       "      <td>174.12</td>\n",
       "      <td>24.000000</td>\n",
       "      <td>never smoked</td>\n",
       "      <td>Yes</td>\n",
       "    </tr>\n",
       "  </tbody>\n",
       "</table>\n",
       "</div>"
      ],
      "text/plain": [
       "   gender   age hypertension heart_disease ever_married      work_type  \\\n",
       "0    Male  67.0           No           Yes          Yes        Private   \n",
       "1  Female  61.0           No            No          Yes  Self-employed   \n",
       "2    Male  80.0           No           Yes          Yes        Private   \n",
       "3  Female  49.0           No            No          Yes        Private   \n",
       "4  Female  79.0          Yes            No          Yes  Self-employed   \n",
       "\n",
       "  Residence_type  avg_glucose_level        bmi   smoking_status stroke  \n",
       "0          Urban             228.69  36.600000  formerly smoked    Yes  \n",
       "1          Rural             202.21  28.893237     never smoked    Yes  \n",
       "2          Rural             105.92  32.500000     never smoked    Yes  \n",
       "3          Urban             171.23  34.400000           smokes    Yes  \n",
       "4          Rural             174.12  24.000000     never smoked    Yes  "
      ]
     },
     "execution_count": 42,
     "metadata": {},
     "output_type": "execute_result"
    }
   ],
   "source": [
    "df.drop(df.index[df['bmi'] > 70], inplace=True)\n",
    "df_v.drop(df_v.index[df_v['bmi'] > 70], inplace=True)\n",
    "df_v.head()"
   ]
  },
  {
   "cell_type": "code",
   "execution_count": 43,
   "metadata": {
    "execution": {
     "iopub.execute_input": "2022-06-19T14:43:24.375793Z",
     "iopub.status.busy": "2022-06-19T14:43:24.375418Z",
     "iopub.status.idle": "2022-06-19T14:43:24.641300Z",
     "shell.execute_reply": "2022-06-19T14:43:24.640394Z",
     "shell.execute_reply.started": "2022-06-19T14:43:24.375728Z"
    }
   },
   "outputs": [
    {
     "data": {
      "image/png": "[encoded data removed]",
      "text/plain": [
       "<Figure size 360x360 with 1 Axes>"
      ]
     },
     "metadata": {
      "needs_background": "light"
     },
     "output_type": "display_data"
    }
   ],
   "source": [
    "boxplot('bmi')"
   ]
  },
  {
   "cell_type": "code",
   "execution_count": 44,
   "metadata": {
    "execution": {
     "iopub.execute_input": "2022-06-19T14:43:24.642853Z",
     "iopub.status.busy": "2022-06-19T14:43:24.642273Z",
     "iopub.status.idle": "2022-06-19T14:43:26.264490Z",
     "shell.execute_reply": "2022-06-19T14:43:26.263483Z",
     "shell.execute_reply.started": "2022-06-19T14:43:24.642807Z"
    }
   },
   "outputs": [
    {
     "ename": "ModuleNotFoundError",
     "evalue": "No module named 'plotly'",
     "output_type": "error",
     "traceback": [
      "\u001b[1;31m---------------------------------------------------------------------------\u001b[0m",
      "\u001b[1;31mModuleNotFoundError\u001b[0m                       Traceback (most recent call last)",
      "\u001b[1;32m<ipython-input-44-8ceac418b117>\u001b[0m in \u001b[0;36m<module>\u001b[1;34m\u001b[0m\n\u001b[1;32m----> 1\u001b[1;33m \u001b[1;32mimport\u001b[0m \u001b[0mplotly\u001b[0m\u001b[1;33m.\u001b[0m\u001b[0mexpress\u001b[0m \u001b[1;32mas\u001b[0m \u001b[0mpx\u001b[0m\u001b[1;33m\u001b[0m\u001b[1;33m\u001b[0m\u001b[0m\n\u001b[0m\u001b[0;32m      2\u001b[0m \u001b[1;32mimport\u001b[0m \u001b[0mplotly\u001b[0m\u001b[1;33m.\u001b[0m\u001b[0mgraph_objects\u001b[0m \u001b[1;32mas\u001b[0m \u001b[0mgo\u001b[0m\u001b[1;33m\u001b[0m\u001b[1;33m\u001b[0m\u001b[0m\n\u001b[0;32m      3\u001b[0m \u001b[0mfig\u001b[0m \u001b[1;33m=\u001b[0m \u001b[0mgo\u001b[0m\u001b[1;33m.\u001b[0m\u001b[0mFigure\u001b[0m\u001b[1;33m(\u001b[0m\u001b[0mdata\u001b[0m \u001b[1;33m=\u001b[0m \u001b[1;33m[\u001b[0m\u001b[0mgo\u001b[0m\u001b[1;33m.\u001b[0m\u001b[0mPie\u001b[0m\u001b[1;33m(\u001b[0m\u001b[0mlabels\u001b[0m \u001b[1;33m=\u001b[0m \u001b[0mdf_v\u001b[0m\u001b[1;33m[\u001b[0m\u001b[1;34m'stroke'\u001b[0m\u001b[1;33m]\u001b[0m\u001b[1;33m.\u001b[0m\u001b[0mvalue_counts\u001b[0m\u001b[1;33m(\u001b[0m\u001b[1;33m)\u001b[0m\u001b[1;33m.\u001b[0m\u001b[0mindex\u001b[0m\u001b[1;33m,\u001b[0m\u001b[0mvalues\u001b[0m \u001b[1;33m=\u001b[0m \u001b[0mdf_v\u001b[0m\u001b[1;33m[\u001b[0m\u001b[1;34m'stroke'\u001b[0m\u001b[1;33m]\u001b[0m\u001b[1;33m.\u001b[0m\u001b[0mvalue_counts\u001b[0m\u001b[1;33m(\u001b[0m\u001b[1;33m)\u001b[0m\u001b[1;33m,\u001b[0m\u001b[0mhole\u001b[0m \u001b[1;33m=\u001b[0m \u001b[1;36m.5\u001b[0m\u001b[1;33m)\u001b[0m\u001b[1;33m]\u001b[0m\u001b[1;33m)\u001b[0m\u001b[1;33m\u001b[0m\u001b[1;33m\u001b[0m\u001b[0m\n\u001b[0;32m      4\u001b[0m \u001b[0mfig\u001b[0m\u001b[1;33m.\u001b[0m\u001b[0mupdate_layout\u001b[0m\u001b[1;33m(\u001b[0m\u001b[0mtitle_text\u001b[0m \u001b[1;33m=\u001b[0m \u001b[1;34m'Class Distribution'\u001b[0m\u001b[1;33m)\u001b[0m\u001b[1;33m\u001b[0m\u001b[1;33m\u001b[0m\u001b[0m\n\u001b[0;32m      5\u001b[0m \u001b[0mfig\u001b[0m\u001b[1;33m.\u001b[0m\u001b[0mshow\u001b[0m\u001b[1;33m(\u001b[0m\u001b[1;33m)\u001b[0m\u001b[1;33m\u001b[0m\u001b[1;33m\u001b[0m\u001b[0m\n",
      "\u001b[1;31mModuleNotFoundError\u001b[0m: No module named 'plotly'"
     ]
    }
   ],
   "source": [
    "import plotly.express as px\n",
    "import plotly.graph_objects as go\n",
    "fig = go.Figure(data = [go.Pie(labels = df_v['stroke'].value_counts().index,values = df_v['stroke'].value_counts(),hole = .5)])\n",
    "fig.update_layout(title_text = 'Class Distribution')\n",
    "fig.show()"
   ]
  },
  {
   "cell_type": "markdown",
   "metadata": {},
   "source": [
    "# Feature Selection"
   ]
  },
  {
   "cell_type": "code",
   "execution_count": 45,
   "metadata": {
    "execution": {
     "iopub.execute_input": "2022-06-19T14:43:26.266123Z",
     "iopub.status.busy": "2022-06-19T14:43:26.265779Z",
     "iopub.status.idle": "2022-06-19T14:43:26.696028Z",
     "shell.execute_reply": "2022-06-19T14:43:26.694939Z",
     "shell.execute_reply.started": "2022-06-19T14:43:26.266093Z"
    }
   },
   "outputs": [
    {
     "data": {
      "image/png": "[encoded data removed]",
      "text/plain": [
       "<Figure size 1440x1080 with 2 Axes>"
      ]
     },
     "metadata": {
      "needs_background": "light"
     },
     "output_type": "display_data"
    }
   ],
   "source": [
    "plt.figure(figsize=(20,15))\n",
    "sns.heatmap(df.corr())\n",
    "plt.show()"
   ]
  },
  {
   "cell_type": "code",
   "execution_count": 47,
   "metadata": {
    "execution": {
     "iopub.execute_input": "2022-06-19T14:43:26.698153Z",
     "iopub.status.busy": "2022-06-19T14:43:26.697419Z",
     "iopub.status.idle": "2022-06-19T14:43:26.709439Z",
     "shell.execute_reply": "2022-06-19T14:43:26.708411Z",
     "shell.execute_reply.started": "2022-06-19T14:43:26.698102Z"
    }
   },
   "outputs": [
    {
     "name": "stdout",
     "output_type": "stream",
     "text": [
      "ever_married        -0.108335\n",
      "work_type           -0.058371\n",
      "smoking_status      -0.044192\n",
      "Residence_type      -0.015373\n",
      "gender              -0.009243\n",
      "bmi                  0.041128\n",
      "hypertension         0.128648\n",
      "avg_glucose_level    0.132028\n",
      "heart_disease        0.134877\n",
      "age                  0.245211\n",
      "stroke               1.000000\n",
      "Name: stroke, dtype: float64\n"
     ]
    }
   ],
   "source": [
    "print(df.corr()['stroke'].sort_values())"
   ]
  },
  {
   "cell_type": "code",
   "execution_count": 48,
   "metadata": {
    "execution": {
     "iopub.execute_input": "2022-06-19T14:43:26.711911Z",
     "iopub.status.busy": "2022-06-19T14:43:26.710869Z",
     "iopub.status.idle": "2022-06-19T14:43:26.740671Z",
     "shell.execute_reply": "2022-06-19T14:43:26.739562Z",
     "shell.execute_reply.started": "2022-06-19T14:43:26.711864Z"
    }
   },
   "outputs": [
    {
     "data": {
      "text/html": [
       "<div>\n",
       "<style scoped>\n",
       "    .dataframe tbody tr th:only-of-type {\n",
       "        vertical-align: middle;\n",
       "    }\n",
       "\n",
       "    .dataframe tbody tr th {\n",
       "        vertical-align: top;\n",
       "    }\n",
       "\n",
       "    .dataframe thead th {\n",
       "        text-align: right;\n",
       "    }\n",
       "</style>\n",
       "<table border=\"1\" class=\"dataframe\">\n",
       "  <thead>\n",
       "    <tr style=\"text-align: right;\">\n",
       "      <th></th>\n",
       "      <th>0</th>\n",
       "      <th>1</th>\n",
       "      <th>2</th>\n",
       "      <th>3</th>\n",
       "      <th>4</th>\n",
       "      <th>5</th>\n",
       "      <th>6</th>\n",
       "      <th>7</th>\n",
       "      <th>8</th>\n",
       "      <th>9</th>\n",
       "    </tr>\n",
       "  </thead>\n",
       "  <tbody>\n",
       "    <tr>\n",
       "      <th>age</th>\n",
       "      <td>67.00</td>\n",
       "      <td>61.000000</td>\n",
       "      <td>80.00</td>\n",
       "      <td>49.00</td>\n",
       "      <td>79.00</td>\n",
       "      <td>81.00</td>\n",
       "      <td>74.00</td>\n",
       "      <td>69.00</td>\n",
       "      <td>59.000000</td>\n",
       "      <td>78.00</td>\n",
       "    </tr>\n",
       "    <tr>\n",
       "      <th>hypertension</th>\n",
       "      <td>0.00</td>\n",
       "      <td>0.000000</td>\n",
       "      <td>0.00</td>\n",
       "      <td>0.00</td>\n",
       "      <td>1.00</td>\n",
       "      <td>0.00</td>\n",
       "      <td>1.00</td>\n",
       "      <td>0.00</td>\n",
       "      <td>0.000000</td>\n",
       "      <td>0.00</td>\n",
       "    </tr>\n",
       "    <tr>\n",
       "      <th>heart_disease</th>\n",
       "      <td>1.00</td>\n",
       "      <td>0.000000</td>\n",
       "      <td>1.00</td>\n",
       "      <td>0.00</td>\n",
       "      <td>0.00</td>\n",
       "      <td>0.00</td>\n",
       "      <td>1.00</td>\n",
       "      <td>0.00</td>\n",
       "      <td>0.000000</td>\n",
       "      <td>0.00</td>\n",
       "    </tr>\n",
       "    <tr>\n",
       "      <th>ever_married</th>\n",
       "      <td>0.00</td>\n",
       "      <td>0.000000</td>\n",
       "      <td>0.00</td>\n",
       "      <td>0.00</td>\n",
       "      <td>0.00</td>\n",
       "      <td>0.00</td>\n",
       "      <td>0.00</td>\n",
       "      <td>1.00</td>\n",
       "      <td>0.000000</td>\n",
       "      <td>0.00</td>\n",
       "    </tr>\n",
       "    <tr>\n",
       "      <th>work_type</th>\n",
       "      <td>0.00</td>\n",
       "      <td>1.000000</td>\n",
       "      <td>0.00</td>\n",
       "      <td>0.00</td>\n",
       "      <td>1.00</td>\n",
       "      <td>0.00</td>\n",
       "      <td>0.00</td>\n",
       "      <td>0.00</td>\n",
       "      <td>0.000000</td>\n",
       "      <td>0.00</td>\n",
       "    </tr>\n",
       "    <tr>\n",
       "      <th>avg_glucose_level</th>\n",
       "      <td>228.69</td>\n",
       "      <td>202.210000</td>\n",
       "      <td>105.92</td>\n",
       "      <td>171.23</td>\n",
       "      <td>174.12</td>\n",
       "      <td>186.21</td>\n",
       "      <td>70.09</td>\n",
       "      <td>94.39</td>\n",
       "      <td>76.150000</td>\n",
       "      <td>58.57</td>\n",
       "    </tr>\n",
       "    <tr>\n",
       "      <th>bmi</th>\n",
       "      <td>36.60</td>\n",
       "      <td>28.893237</td>\n",
       "      <td>32.50</td>\n",
       "      <td>34.40</td>\n",
       "      <td>24.00</td>\n",
       "      <td>29.00</td>\n",
       "      <td>27.40</td>\n",
       "      <td>22.80</td>\n",
       "      <td>28.893237</td>\n",
       "      <td>24.20</td>\n",
       "    </tr>\n",
       "    <tr>\n",
       "      <th>smoking_status</th>\n",
       "      <td>0.00</td>\n",
       "      <td>1.000000</td>\n",
       "      <td>1.00</td>\n",
       "      <td>2.00</td>\n",
       "      <td>1.00</td>\n",
       "      <td>0.00</td>\n",
       "      <td>1.00</td>\n",
       "      <td>1.00</td>\n",
       "      <td>1.000000</td>\n",
       "      <td>1.00</td>\n",
       "    </tr>\n",
       "    <tr>\n",
       "      <th>stroke</th>\n",
       "      <td>1.00</td>\n",
       "      <td>1.000000</td>\n",
       "      <td>1.00</td>\n",
       "      <td>1.00</td>\n",
       "      <td>1.00</td>\n",
       "      <td>1.00</td>\n",
       "      <td>1.00</td>\n",
       "      <td>1.00</td>\n",
       "      <td>1.000000</td>\n",
       "      <td>1.00</td>\n",
       "    </tr>\n",
       "  </tbody>\n",
       "</table>\n",
       "</div>"
      ],
      "text/plain": [
       "                        0           1       2       3       4       5      6  \\\n",
       "age                 67.00   61.000000   80.00   49.00   79.00   81.00  74.00   \n",
       "hypertension         0.00    0.000000    0.00    0.00    1.00    0.00   1.00   \n",
       "heart_disease        1.00    0.000000    1.00    0.00    0.00    0.00   1.00   \n",
       "ever_married         0.00    0.000000    0.00    0.00    0.00    0.00   0.00   \n",
       "work_type            0.00    1.000000    0.00    0.00    1.00    0.00   0.00   \n",
       "avg_glucose_level  228.69  202.210000  105.92  171.23  174.12  186.21  70.09   \n",
       "bmi                 36.60   28.893237   32.50   34.40   24.00   29.00  27.40   \n",
       "smoking_status       0.00    1.000000    1.00    2.00    1.00    0.00   1.00   \n",
       "stroke               1.00    1.000000    1.00    1.00    1.00    1.00   1.00   \n",
       "\n",
       "                       7          8      9  \n",
       "age                69.00  59.000000  78.00  \n",
       "hypertension        0.00   0.000000   0.00  \n",
       "heart_disease       0.00   0.000000   0.00  \n",
       "ever_married        1.00   0.000000   0.00  \n",
       "work_type           0.00   0.000000   0.00  \n",
       "avg_glucose_level  94.39  76.150000  58.57  \n",
       "bmi                22.80  28.893237  24.20  \n",
       "smoking_status      1.00   1.000000   1.00  \n",
       "stroke              1.00   1.000000   1.00  "
      ]
     },
     "execution_count": 48,
     "metadata": {},
     "output_type": "execute_result"
    }
   ],
   "source": [
    "#drop columns with -0.02<correlation<0.02¶\n",
    "cols_to_drop=['Residence_type','gender']\n",
    "df = df.drop(cols_to_drop, axis = 1).copy()\n",
    "df.head(10).T"
   ]
  },
  {
   "cell_type": "markdown",
   "metadata": {},
   "source": [
    "# IRUS"
   ]
  },
  {
   "cell_type": "code",
   "execution_count": 49,
   "metadata": {
    "execution": {
     "iopub.execute_input": "2022-06-19T14:43:26.742539Z",
     "iopub.status.busy": "2022-06-19T14:43:26.742113Z",
     "iopub.status.idle": "2022-06-19T14:43:26.753159Z",
     "shell.execute_reply": "2022-06-19T14:43:26.752218Z",
     "shell.execute_reply.started": "2022-06-19T14:43:26.742505Z"
    }
   },
   "outputs": [
    {
     "name": "stdout",
     "output_type": "stream",
     "text": [
      "class 0: (4857, 9)\n",
      "class 1: (249, 9)\n"
     ]
    }
   ],
   "source": [
    "# class count\n",
    "class_count_0, class_count_1 = df['stroke'].value_counts()\n",
    "# Separate class\n",
    "class_0 = df[df['stroke'] == 0]\n",
    "class_1 = df[df['stroke'] == 1]\n",
    "# print the shape of the class\n",
    "print('class 0:', class_0.shape)\n",
    "print('class 1:', class_1.shape)"
   ]
  },
  {
   "cell_type": "code",
   "execution_count": 50,
   "metadata": {
    "execution": {
     "iopub.execute_input": "2022-06-19T14:43:26.754954Z",
     "iopub.status.busy": "2022-06-19T14:43:26.754307Z",
     "iopub.status.idle": "2022-06-19T14:43:26.776358Z",
     "shell.execute_reply": "2022-06-19T14:43:26.775011Z",
     "shell.execute_reply.started": "2022-06-19T14:43:26.754918Z"
    }
   },
   "outputs": [
    {
     "name": "stdout",
     "output_type": "stream",
     "text": [
      "(297, 9)\n",
      "(49, 9)\n",
      "(4560, 9)\n",
      "(200, 9)\n"
     ]
    }
   ],
   "source": [
    "import math\n",
    "from sklearn.model_selection import train_test_split\n",
    "\n",
    "'''Require: XNmin : Training set of minority patterns with\n",
    "cardinality Nmin\n",
    "XNmaj: Training set of majority patterns with cardinality Nmaj\n",
    "S: Number of samples from XNmaj for each Model, SoNmin\n",
    "Sets: Number of classifiers, Default:1:5  ceilðNmaj=SÞ\n",
    "t: Test sample\n",
    "Ensure: Confidence score of t, conf(t)\n",
    "confðtÞ 1⁄4 0\n",
    "for i1⁄41 to Sets do\n",
    "X0\n",
    "Nmaj ( Randomly pick S samples without replacement\n",
    "from XNmaj\n",
    "Ts ( X0\n",
    "Nmaj [ XNmin\n",
    "Train base classifier hi using Ts samples\n",
    "D1⁄4Probability of positive class assigned by hi to the test\n",
    "sample t\n",
    "Dnorm1⁄4z-score normalization of D (Eq. (1))\n",
    "confðtÞ 1⁄4 confðtÞþDnorm\n",
    "end for\n",
    "confðtÞ 1⁄4 confðtÞ=Sets'''\n",
    "# Test Data Selection\n",
    "class_0_test=class_0.sample(n=297,replace=False)\n",
    "class_0=pd.concat([class_0, class_0_test, class_0_test]).drop_duplicates(keep=False)\n",
    "class_1_test=class_1.sample(n=49,replace=False)\n",
    "class_1=pd.concat([class_1, class_1_test, class_1_test]).drop_duplicates(keep=False)\n",
    "print(class_0_test.shape)\n",
    "print(class_1_test.shape)\n",
    "print(class_0.shape)\n",
    "print(class_1.shape)"
   ]
  },
  {
   "cell_type": "code",
   "execution_count": 51,
   "metadata": {
    "execution": {
     "iopub.execute_input": "2022-06-19T14:43:26.778809Z",
     "iopub.status.busy": "2022-06-19T14:43:26.778076Z",
     "iopub.status.idle": "2022-06-19T14:43:26.787220Z",
     "shell.execute_reply": "2022-06-19T14:43:26.786015Z",
     "shell.execute_reply.started": "2022-06-19T14:43:26.778765Z"
    }
   },
   "outputs": [],
   "source": [
    "Test_data=pd.concat([class_0_test,class_1_test])\n",
    "y_test=np.asarray(Test_data[['stroke']])\n",
    "X_test=np.asarray(Test_data.drop(['stroke'], axis = 1))"
   ]
  },
  {
   "cell_type": "markdown",
   "metadata": {},
   "source": []
  },
  {
   "cell_type": "code",
   "execution_count": 52,
   "metadata": {
    "execution": {
     "iopub.execute_input": "2022-06-19T14:43:26.789336Z",
     "iopub.status.busy": "2022-06-19T14:43:26.788398Z",
     "iopub.status.idle": "2022-06-19T14:43:26.799115Z",
     "shell.execute_reply": "2022-06-19T14:43:26.797920Z",
     "shell.execute_reply.started": "2022-06-19T14:43:26.789298Z"
    }
   },
   "outputs": [
    {
     "name": "stdout",
     "output_type": "stream",
     "text": [
      "24\n",
      "(4560, 9)\n"
     ]
    }
   ],
   "source": [
    "\n",
    "XNmaj=class_0.copy()\n",
    "XNmin=class_1.copy()\n",
    "S=190\n",
    "Sets=24\n",
    "print(Sets)\n",
    "print(XNmaj.shape)"
   ]
  },
  {
   "cell_type": "code",
   "execution_count": 53,
   "metadata": {
    "execution": {
     "iopub.execute_input": "2022-06-19T14:43:26.800872Z",
     "iopub.status.busy": "2022-06-19T14:43:26.800248Z",
     "iopub.status.idle": "2022-06-19T14:43:26.999572Z",
     "shell.execute_reply": "2022-06-19T14:43:26.998302Z",
     "shell.execute_reply.started": "2022-06-19T14:43:26.800824Z"
    }
   },
   "outputs": [],
   "source": [
    "from sklearn.tree import DecisionTreeClassifier\n",
    "from sklearn.ensemble import RandomForestClassifier\n",
    "from sklearn.neighbors import KNeighborsClassifier\n",
    "from sklearn.svm import SVC\n",
    "from xgboost import XGBClassifier\n",
    "from sklearn.naive_bayes import GaussianNB\n",
    "from sklearn.neural_network import MLPClassifier\n",
    "from sklearn.linear_model import LogisticRegression"
   ]
  },
  {
   "cell_type": "code",
   "execution_count": 68,
   "metadata": {
    "execution": {
     "iopub.execute_input": "2022-06-19T14:43:27.001202Z",
     "iopub.status.busy": "2022-06-19T14:43:27.000854Z",
     "iopub.status.idle": "2022-06-19T14:43:32.263529Z",
     "shell.execute_reply": "2022-06-19T14:43:32.262399Z",
     "shell.execute_reply.started": "2022-06-19T14:43:27.001172Z"
    }
   },
   "outputs": [],
   "source": [
    "def irus( ml_model):  \n",
    "    S=190\n",
    "    Sets=24\n",
    "    \n",
    "    XNmaj=class_0.copy()\n",
    "    XNmin=class_1.copy()\n",
    "    confidence=np.zeros(346)\n",
    "    prob=np.zeros(346)\n",
    "    for i in range(Sets):\n",
    "        \n",
    "        X_train=XNmaj.sample(S,replace=True)\n",
    "        XNmaj=pd.concat([XNmaj, X_train, X_train]).drop_duplicates(keep=False)\n",
    "        X_train=pd.concat([X_train,XNmin])\n",
    "        y_train=np.asarray(X_train[['stroke']])\n",
    "        X_train=np.asarray(X_train.drop(['stroke'], axis = 1))\n",
    "        ml_model.fit(X_train,y_train)\n",
    "        y_pred=ml_model.predict_proba(X_test)\n",
    "        D=np.zeros(346)\n",
    "        for val in range(346):\n",
    "            D[val]=y_pred[val][1]\n",
    "        Dnorm=np.zeros(346)\n",
    "        for j in range(346):\n",
    "            Dnorm[j]=(D[j]-np.mean(D))/np.std(D)\n",
    "\n",
    "        confidence=confidence+Dnorm\n",
    "        prob=prob+D\n",
    "    confidence=confidence/Sets\n",
    "    prob=prob/Sets\n",
    "    pred=np.zeros(346)\n",
    "    for k in range(346):\n",
    "        if(confidence[k]>0.5):\n",
    "            pred[k]=1\n",
    "        else:\n",
    "            pred[k]=0\n",
    "    from sklearn.metrics import confusion_matrix,accuracy_score\n",
    "    cm_dtree=confusion_matrix(y_test,pred)\n",
    "    ax = sns.heatmap(cm_dtree, annot=True, cmap='Blues')\n",
    "\n",
    "    ax.set_title('Confusion Matrix \\n\\n');\n",
    "    ax.set_xlabel('\\nPredicted Values')\n",
    "    ax.set_ylabel('Actual Values ');\n",
    "\n",
    "    ## Ticket labels - List must be in alphabetical order\n",
    "    ax.xaxis.set_ticklabels(['False','True'])\n",
    "    ax.yaxis.set_ticklabels(['False','True'])\n",
    "\n",
    "    ## Display the visualization of the Confusion Matrix.\n",
    "    plt.show()\n",
    "    accuracy_dtree=accuracy_score(y_test,pred)\n",
    "    print(\"Accuracy: \",accuracy_dtree)\n",
    "    from sklearn.metrics import classification_report\n",
    "    print(classification_report(y_test,pred))"
   ]
  },
  {
   "cell_type": "code",
   "execution_count": 70,
   "metadata": {},
   "outputs": [
    {
     "data": {
      "image/png": "[encoded data removed]",
      "text/plain": [
       "<Figure size 432x288 with 2 Axes>"
      ]
     },
     "metadata": {
      "needs_background": "light"
     },
     "output_type": "display_data"
    },
    {
     "name": "stdout",
     "output_type": "stream",
     "text": [
      "Accuracy:  0.7658959537572254\n",
      "              precision    recall  f1-score   support\n",
      "\n",
      "         0.0       0.94      0.78      0.85       297\n",
      "         1.0       0.34      0.67      0.45        49\n",
      "\n",
      "    accuracy                           0.77       346\n",
      "   macro avg       0.64      0.73      0.65       346\n",
      "weighted avg       0.85      0.77      0.79       346\n",
      "\n"
     ]
    },
    {
     "name": "stderr",
     "output_type": "stream",
     "text": [
      "<ipython-input-68-0c178441d99d>:16: DataConversionWarning: A column-vector y was passed when a 1d array was expected. Please change the shape of y to (n_samples,), for example using ravel().\n",
      "  ml_model.fit(X_train,y_train)\n",
      "<ipython-input-68-0c178441d99d>:16: DataConversionWarning: A column-vector y was passed when a 1d array was expected. Please change the shape of y to (n_samples,), for example using ravel().\n",
      "  ml_model.fit(X_train,y_train)\n",
      "<ipython-input-68-0c178441d99d>:16: DataConversionWarning: A column-vector y was passed when a 1d array was expected. Please change the shape of y to (n_samples,), for example using ravel().\n",
      "  ml_model.fit(X_train,y_train)\n",
      "<ipython-input-68-0c178441d99d>:16: DataConversionWarning: A column-vector y was passed when a 1d array was expected. Please change the shape of y to (n_samples,), for example using ravel().\n",
      "  ml_model.fit(X_train,y_train)\n",
      "<ipython-input-68-0c178441d99d>:16: DataConversionWarning: A column-vector y was passed when a 1d array was expected. Please change the shape of y to (n_samples,), for example using ravel().\n",
      "  ml_model.fit(X_train,y_train)\n",
      "<ipython-input-68-0c178441d99d>:16: DataConversionWarning: A column-vector y was passed when a 1d array was expected. Please change the shape of y to (n_samples,), for example using ravel().\n",
      "  ml_model.fit(X_train,y_train)\n",
      "<ipython-input-68-0c178441d99d>:16: DataConversionWarning: A column-vector y was passed when a 1d array was expected. Please change the shape of y to (n_samples,), for example using ravel().\n",
      "  ml_model.fit(X_train,y_train)\n",
      "<ipython-input-68-0c178441d99d>:16: DataConversionWarning: A column-vector y was passed when a 1d array was expected. Please change the shape of y to (n_samples,), for example using ravel().\n",
      "  ml_model.fit(X_train,y_train)\n",
      "<ipython-input-68-0c178441d99d>:16: DataConversionWarning: A column-vector y was passed when a 1d array was expected. Please change the shape of y to (n_samples,), for example using ravel().\n",
      "  ml_model.fit(X_train,y_train)\n",
      "<ipython-input-68-0c178441d99d>:16: DataConversionWarning: A column-vector y was passed when a 1d array was expected. Please change the shape of y to (n_samples,), for example using ravel().\n",
      "  ml_model.fit(X_train,y_train)\n",
      "<ipython-input-68-0c178441d99d>:16: DataConversionWarning: A column-vector y was passed when a 1d array was expected. Please change the shape of y to (n_samples,), for example using ravel().\n",
      "  ml_model.fit(X_train,y_train)\n",
      "<ipython-input-68-0c178441d99d>:16: DataConversionWarning: A column-vector y was passed when a 1d array was expected. Please change the shape of y to (n_samples,), for example using ravel().\n",
      "  ml_model.fit(X_train,y_train)\n",
      "<ipython-input-68-0c178441d99d>:16: DataConversionWarning: A column-vector y was passed when a 1d array was expected. Please change the shape of y to (n_samples,), for example using ravel().\n",
      "  ml_model.fit(X_train,y_train)\n",
      "<ipython-input-68-0c178441d99d>:16: DataConversionWarning: A column-vector y was passed when a 1d array was expected. Please change the shape of y to (n_samples,), for example using ravel().\n",
      "  ml_model.fit(X_train,y_train)\n",
      "<ipython-input-68-0c178441d99d>:16: DataConversionWarning: A column-vector y was passed when a 1d array was expected. Please change the shape of y to (n_samples,), for example using ravel().\n",
      "  ml_model.fit(X_train,y_train)\n",
      "<ipython-input-68-0c178441d99d>:16: DataConversionWarning: A column-vector y was passed when a 1d array was expected. Please change the shape of y to (n_samples,), for example using ravel().\n",
      "  ml_model.fit(X_train,y_train)\n",
      "<ipython-input-68-0c178441d99d>:16: DataConversionWarning: A column-vector y was passed when a 1d array was expected. Please change the shape of y to (n_samples,), for example using ravel().\n",
      "  ml_model.fit(X_train,y_train)\n",
      "<ipython-input-68-0c178441d99d>:16: DataConversionWarning: A column-vector y was passed when a 1d array was expected. Please change the shape of y to (n_samples,), for example using ravel().\n",
      "  ml_model.fit(X_train,y_train)\n",
      "<ipython-input-68-0c178441d99d>:16: DataConversionWarning: A column-vector y was passed when a 1d array was expected. Please change the shape of y to (n_samples,), for example using ravel().\n",
      "  ml_model.fit(X_train,y_train)\n",
      "<ipython-input-68-0c178441d99d>:16: DataConversionWarning: A column-vector y was passed when a 1d array was expected. Please change the shape of y to (n_samples,), for example using ravel().\n",
      "  ml_model.fit(X_train,y_train)\n",
      "<ipython-input-68-0c178441d99d>:16: DataConversionWarning: A column-vector y was passed when a 1d array was expected. Please change the shape of y to (n_samples,), for example using ravel().\n",
      "  ml_model.fit(X_train,y_train)\n",
      "<ipython-input-68-0c178441d99d>:16: DataConversionWarning: A column-vector y was passed when a 1d array was expected. Please change the shape of y to (n_samples,), for example using ravel().\n",
      "  ml_model.fit(X_train,y_train)\n",
      "<ipython-input-68-0c178441d99d>:16: DataConversionWarning: A column-vector y was passed when a 1d array was expected. Please change the shape of y to (n_samples,), for example using ravel().\n",
      "  ml_model.fit(X_train,y_train)\n",
      "<ipython-input-68-0c178441d99d>:16: DataConversionWarning: A column-vector y was passed when a 1d array was expected. Please change the shape of y to (n_samples,), for example using ravel().\n",
      "  ml_model.fit(X_train,y_train)\n"
     ]
    },
    {
     "data": {
      "image/png": "[encoded data removed]",
      "text/plain": [
       "<Figure size 432x288 with 2 Axes>"
      ]
     },
     "metadata": {
      "needs_background": "light"
     },
     "output_type": "display_data"
    },
    {
     "name": "stdout",
     "output_type": "stream",
     "text": [
      "Accuracy:  0.7369942196531792\n",
      "              precision    recall  f1-score   support\n",
      "\n",
      "         0.0       0.97      0.72      0.82       297\n",
      "         1.0       0.33      0.86      0.48        49\n",
      "\n",
      "    accuracy                           0.74       346\n",
      "   macro avg       0.65      0.79      0.65       346\n",
      "weighted avg       0.88      0.74      0.78       346\n",
      "\n"
     ]
    },
    {
     "name": "stderr",
     "output_type": "stream",
     "text": [
      "C:\\ProgramData\\Anaconda3\\lib\\site-packages\\sklearn\\neural_network\\_multilayer_perceptron.py:1109: DataConversionWarning: A column-vector y was passed when a 1d array was expected. Please change the shape of y to (n_samples, ), for example using ravel().\n",
      "  y = column_or_1d(y, warn=True)\n",
      "C:\\ProgramData\\Anaconda3\\lib\\site-packages\\sklearn\\neural_network\\_multilayer_perceptron.py:1109: DataConversionWarning: A column-vector y was passed when a 1d array was expected. Please change the shape of y to (n_samples, ), for example using ravel().\n",
      "  y = column_or_1d(y, warn=True)\n",
      "C:\\ProgramData\\Anaconda3\\lib\\site-packages\\sklearn\\neural_network\\_multilayer_perceptron.py:1109: DataConversionWarning: A column-vector y was passed when a 1d array was expected. Please change the shape of y to (n_samples, ), for example using ravel().\n",
      "  y = column_or_1d(y, warn=True)\n",
      "C:\\ProgramData\\Anaconda3\\lib\\site-packages\\sklearn\\neural_network\\_multilayer_perceptron.py:1109: DataConversionWarning: A column-vector y was passed when a 1d array was expected. Please change the shape of y to (n_samples, ), for example using ravel().\n",
      "  y = column_or_1d(y, warn=True)\n",
      "C:\\ProgramData\\Anaconda3\\lib\\site-packages\\sklearn\\neural_network\\_multilayer_perceptron.py:1109: DataConversionWarning: A column-vector y was passed when a 1d array was expected. Please change the shape of y to (n_samples, ), for example using ravel().\n",
      "  y = column_or_1d(y, warn=True)\n",
      "C:\\ProgramData\\Anaconda3\\lib\\site-packages\\sklearn\\neural_network\\_multilayer_perceptron.py:1109: DataConversionWarning: A column-vector y was passed when a 1d array was expected. Please change the shape of y to (n_samples, ), for example using ravel().\n",
      "  y = column_or_1d(y, warn=True)\n",
      "C:\\ProgramData\\Anaconda3\\lib\\site-packages\\sklearn\\neural_network\\_multilayer_perceptron.py:1109: DataConversionWarning: A column-vector y was passed when a 1d array was expected. Please change the shape of y to (n_samples, ), for example using ravel().\n",
      "  y = column_or_1d(y, warn=True)\n",
      "C:\\ProgramData\\Anaconda3\\lib\\site-packages\\sklearn\\neural_network\\_multilayer_perceptron.py:1109: DataConversionWarning: A column-vector y was passed when a 1d array was expected. Please change the shape of y to (n_samples, ), for example using ravel().\n",
      "  y = column_or_1d(y, warn=True)\n",
      "C:\\ProgramData\\Anaconda3\\lib\\site-packages\\sklearn\\neural_network\\_multilayer_perceptron.py:1109: DataConversionWarning: A column-vector y was passed when a 1d array was expected. Please change the shape of y to (n_samples, ), for example using ravel().\n",
      "  y = column_or_1d(y, warn=True)\n",
      "C:\\ProgramData\\Anaconda3\\lib\\site-packages\\sklearn\\neural_network\\_multilayer_perceptron.py:1109: DataConversionWarning: A column-vector y was passed when a 1d array was expected. Please change the shape of y to (n_samples, ), for example using ravel().\n",
      "  y = column_or_1d(y, warn=True)\n",
      "C:\\ProgramData\\Anaconda3\\lib\\site-packages\\sklearn\\neural_network\\_multilayer_perceptron.py:1109: DataConversionWarning: A column-vector y was passed when a 1d array was expected. Please change the shape of y to (n_samples, ), for example using ravel().\n",
      "  y = column_or_1d(y, warn=True)\n",
      "C:\\ProgramData\\Anaconda3\\lib\\site-packages\\sklearn\\neural_network\\_multilayer_perceptron.py:1109: DataConversionWarning: A column-vector y was passed when a 1d array was expected. Please change the shape of y to (n_samples, ), for example using ravel().\n",
      "  y = column_or_1d(y, warn=True)\n",
      "C:\\ProgramData\\Anaconda3\\lib\\site-packages\\sklearn\\neural_network\\_multilayer_perceptron.py:1109: DataConversionWarning: A column-vector y was passed when a 1d array was expected. Please change the shape of y to (n_samples, ), for example using ravel().\n",
      "  y = column_or_1d(y, warn=True)\n",
      "C:\\ProgramData\\Anaconda3\\lib\\site-packages\\sklearn\\neural_network\\_multilayer_perceptron.py:1109: DataConversionWarning: A column-vector y was passed when a 1d array was expected. Please change the shape of y to (n_samples, ), for example using ravel().\n",
      "  y = column_or_1d(y, warn=True)\n",
      "C:\\ProgramData\\Anaconda3\\lib\\site-packages\\sklearn\\neural_network\\_multilayer_perceptron.py:1109: DataConversionWarning: A column-vector y was passed when a 1d array was expected. Please change the shape of y to (n_samples, ), for example using ravel().\n",
      "  y = column_or_1d(y, warn=True)\n",
      "C:\\ProgramData\\Anaconda3\\lib\\site-packages\\sklearn\\neural_network\\_multilayer_perceptron.py:1109: DataConversionWarning: A column-vector y was passed when a 1d array was expected. Please change the shape of y to (n_samples, ), for example using ravel().\n",
      "  y = column_or_1d(y, warn=True)\n",
      "C:\\ProgramData\\Anaconda3\\lib\\site-packages\\sklearn\\neural_network\\_multilayer_perceptron.py:1109: DataConversionWarning: A column-vector y was passed when a 1d array was expected. Please change the shape of y to (n_samples, ), for example using ravel().\n",
      "  y = column_or_1d(y, warn=True)\n",
      "C:\\ProgramData\\Anaconda3\\lib\\site-packages\\sklearn\\neural_network\\_multilayer_perceptron.py:1109: DataConversionWarning: A column-vector y was passed when a 1d array was expected. Please change the shape of y to (n_samples, ), for example using ravel().\n",
      "  y = column_or_1d(y, warn=True)\n",
      "C:\\ProgramData\\Anaconda3\\lib\\site-packages\\sklearn\\neural_network\\_multilayer_perceptron.py:1109: DataConversionWarning: A column-vector y was passed when a 1d array was expected. Please change the shape of y to (n_samples, ), for example using ravel().\n",
      "  y = column_or_1d(y, warn=True)\n",
      "C:\\ProgramData\\Anaconda3\\lib\\site-packages\\sklearn\\neural_network\\_multilayer_perceptron.py:1109: DataConversionWarning: A column-vector y was passed when a 1d array was expected. Please change the shape of y to (n_samples, ), for example using ravel().\n",
      "  y = column_or_1d(y, warn=True)\n",
      "C:\\ProgramData\\Anaconda3\\lib\\site-packages\\sklearn\\neural_network\\_multilayer_perceptron.py:1109: DataConversionWarning: A column-vector y was passed when a 1d array was expected. Please change the shape of y to (n_samples, ), for example using ravel().\n",
      "  y = column_or_1d(y, warn=True)\n",
      "C:\\ProgramData\\Anaconda3\\lib\\site-packages\\sklearn\\neural_network\\_multilayer_perceptron.py:1109: DataConversionWarning: A column-vector y was passed when a 1d array was expected. Please change the shape of y to (n_samples, ), for example using ravel().\n",
      "  y = column_or_1d(y, warn=True)\n",
      "C:\\ProgramData\\Anaconda3\\lib\\site-packages\\sklearn\\neural_network\\_multilayer_perceptron.py:1109: DataConversionWarning: A column-vector y was passed when a 1d array was expected. Please change the shape of y to (n_samples, ), for example using ravel().\n",
      "  y = column_or_1d(y, warn=True)\n",
      "C:\\ProgramData\\Anaconda3\\lib\\site-packages\\sklearn\\neural_network\\_multilayer_perceptron.py:1109: DataConversionWarning: A column-vector y was passed when a 1d array was expected. Please change the shape of y to (n_samples, ), for example using ravel().\n",
      "  y = column_or_1d(y, warn=True)\n"
     ]
    },
    {
     "data": {
      "image/png": "[encoded data removed]",
      "text/plain": [
       "<Figure size 432x288 with 2 Axes>"
      ]
     },
     "metadata": {
      "needs_background": "light"
     },
     "output_type": "display_data"
    },
    {
     "name": "stdout",
     "output_type": "stream",
     "text": [
      "Accuracy:  0.6965317919075145\n",
      "              precision    recall  f1-score   support\n",
      "\n",
      "         0.0       0.94      0.69      0.80       297\n",
      "         1.0       0.28      0.73      0.41        49\n",
      "\n",
      "    accuracy                           0.70       346\n",
      "   macro avg       0.61      0.71      0.60       346\n",
      "weighted avg       0.85      0.70      0.74       346\n",
      "\n"
     ]
    },
    {
     "name": "stderr",
     "output_type": "stream",
     "text": [
      "C:\\ProgramData\\Anaconda3\\lib\\site-packages\\sklearn\\utils\\validation.py:993: DataConversionWarning: A column-vector y was passed when a 1d array was expected. Please change the shape of y to (n_samples, ), for example using ravel().\n",
      "  y = column_or_1d(y, warn=True)\n",
      "C:\\ProgramData\\Anaconda3\\lib\\site-packages\\sklearn\\utils\\validation.py:993: DataConversionWarning: A column-vector y was passed when a 1d array was expected. Please change the shape of y to (n_samples, ), for example using ravel().\n",
      "  y = column_or_1d(y, warn=True)\n",
      "C:\\ProgramData\\Anaconda3\\lib\\site-packages\\sklearn\\utils\\validation.py:993: DataConversionWarning: A column-vector y was passed when a 1d array was expected. Please change the shape of y to (n_samples, ), for example using ravel().\n",
      "  y = column_or_1d(y, warn=True)\n",
      "C:\\ProgramData\\Anaconda3\\lib\\site-packages\\sklearn\\utils\\validation.py:993: DataConversionWarning: A column-vector y was passed when a 1d array was expected. Please change the shape of y to (n_samples, ), for example using ravel().\n",
      "  y = column_or_1d(y, warn=True)\n",
      "C:\\ProgramData\\Anaconda3\\lib\\site-packages\\sklearn\\utils\\validation.py:993: DataConversionWarning: A column-vector y was passed when a 1d array was expected. Please change the shape of y to (n_samples, ), for example using ravel().\n",
      "  y = column_or_1d(y, warn=True)\n",
      "C:\\ProgramData\\Anaconda3\\lib\\site-packages\\sklearn\\utils\\validation.py:993: DataConversionWarning: A column-vector y was passed when a 1d array was expected. Please change the shape of y to (n_samples, ), for example using ravel().\n",
      "  y = column_or_1d(y, warn=True)\n",
      "C:\\ProgramData\\Anaconda3\\lib\\site-packages\\sklearn\\utils\\validation.py:993: DataConversionWarning: A column-vector y was passed when a 1d array was expected. Please change the shape of y to (n_samples, ), for example using ravel().\n",
      "  y = column_or_1d(y, warn=True)\n",
      "C:\\ProgramData\\Anaconda3\\lib\\site-packages\\sklearn\\utils\\validation.py:993: DataConversionWarning: A column-vector y was passed when a 1d array was expected. Please change the shape of y to (n_samples, ), for example using ravel().\n",
      "  y = column_or_1d(y, warn=True)\n",
      "C:\\ProgramData\\Anaconda3\\lib\\site-packages\\sklearn\\utils\\validation.py:993: DataConversionWarning: A column-vector y was passed when a 1d array was expected. Please change the shape of y to (n_samples, ), for example using ravel().\n",
      "  y = column_or_1d(y, warn=True)\n",
      "C:\\ProgramData\\Anaconda3\\lib\\site-packages\\sklearn\\utils\\validation.py:993: DataConversionWarning: A column-vector y was passed when a 1d array was expected. Please change the shape of y to (n_samples, ), for example using ravel().\n",
      "  y = column_or_1d(y, warn=True)\n",
      "C:\\ProgramData\\Anaconda3\\lib\\site-packages\\sklearn\\utils\\validation.py:993: DataConversionWarning: A column-vector y was passed when a 1d array was expected. Please change the shape of y to (n_samples, ), for example using ravel().\n",
      "  y = column_or_1d(y, warn=True)\n",
      "C:\\ProgramData\\Anaconda3\\lib\\site-packages\\sklearn\\utils\\validation.py:993: DataConversionWarning: A column-vector y was passed when a 1d array was expected. Please change the shape of y to (n_samples, ), for example using ravel().\n",
      "  y = column_or_1d(y, warn=True)\n",
      "C:\\ProgramData\\Anaconda3\\lib\\site-packages\\sklearn\\utils\\validation.py:993: DataConversionWarning: A column-vector y was passed when a 1d array was expected. Please change the shape of y to (n_samples, ), for example using ravel().\n",
      "  y = column_or_1d(y, warn=True)\n",
      "C:\\ProgramData\\Anaconda3\\lib\\site-packages\\sklearn\\utils\\validation.py:993: DataConversionWarning: A column-vector y was passed when a 1d array was expected. Please change the shape of y to (n_samples, ), for example using ravel().\n",
      "  y = column_or_1d(y, warn=True)\n",
      "C:\\ProgramData\\Anaconda3\\lib\\site-packages\\sklearn\\utils\\validation.py:993: DataConversionWarning: A column-vector y was passed when a 1d array was expected. Please change the shape of y to (n_samples, ), for example using ravel().\n",
      "  y = column_or_1d(y, warn=True)\n",
      "C:\\ProgramData\\Anaconda3\\lib\\site-packages\\sklearn\\utils\\validation.py:993: DataConversionWarning: A column-vector y was passed when a 1d array was expected. Please change the shape of y to (n_samples, ), for example using ravel().\n",
      "  y = column_or_1d(y, warn=True)\n",
      "C:\\ProgramData\\Anaconda3\\lib\\site-packages\\sklearn\\utils\\validation.py:993: DataConversionWarning: A column-vector y was passed when a 1d array was expected. Please change the shape of y to (n_samples, ), for example using ravel().\n",
      "  y = column_or_1d(y, warn=True)\n",
      "C:\\ProgramData\\Anaconda3\\lib\\site-packages\\sklearn\\utils\\validation.py:993: DataConversionWarning: A column-vector y was passed when a 1d array was expected. Please change the shape of y to (n_samples, ), for example using ravel().\n",
      "  y = column_or_1d(y, warn=True)\n",
      "C:\\ProgramData\\Anaconda3\\lib\\site-packages\\sklearn\\utils\\validation.py:993: DataConversionWarning: A column-vector y was passed when a 1d array was expected. Please change the shape of y to (n_samples, ), for example using ravel().\n",
      "  y = column_or_1d(y, warn=True)\n",
      "C:\\ProgramData\\Anaconda3\\lib\\site-packages\\sklearn\\utils\\validation.py:993: DataConversionWarning: A column-vector y was passed when a 1d array was expected. Please change the shape of y to (n_samples, ), for example using ravel().\n",
      "  y = column_or_1d(y, warn=True)\n",
      "C:\\ProgramData\\Anaconda3\\lib\\site-packages\\sklearn\\utils\\validation.py:993: DataConversionWarning: A column-vector y was passed when a 1d array was expected. Please change the shape of y to (n_samples, ), for example using ravel().\n",
      "  y = column_or_1d(y, warn=True)\n",
      "C:\\ProgramData\\Anaconda3\\lib\\site-packages\\sklearn\\utils\\validation.py:993: DataConversionWarning: A column-vector y was passed when a 1d array was expected. Please change the shape of y to (n_samples, ), for example using ravel().\n",
      "  y = column_or_1d(y, warn=True)\n",
      "C:\\ProgramData\\Anaconda3\\lib\\site-packages\\sklearn\\utils\\validation.py:993: DataConversionWarning: A column-vector y was passed when a 1d array was expected. Please change the shape of y to (n_samples, ), for example using ravel().\n",
      "  y = column_or_1d(y, warn=True)\n",
      "C:\\ProgramData\\Anaconda3\\lib\\site-packages\\sklearn\\utils\\validation.py:993: DataConversionWarning: A column-vector y was passed when a 1d array was expected. Please change the shape of y to (n_samples, ), for example using ravel().\n",
      "  y = column_or_1d(y, warn=True)\n"
     ]
    },
    {
     "data": {
      "image/png": "[encoded data removed]",
      "text/plain": [
       "<Figure size 432x288 with 2 Axes>"
      ]
     },
     "metadata": {
      "needs_background": "light"
     },
     "output_type": "display_data"
    },
    {
     "name": "stdout",
     "output_type": "stream",
     "text": [
      "Accuracy:  0.7225433526011561\n",
      "              precision    recall  f1-score   support\n",
      "\n",
      "         0.0       0.95      0.72      0.82       297\n",
      "         1.0       0.31      0.76      0.44        49\n",
      "\n",
      "    accuracy                           0.72       346\n",
      "   macro avg       0.63      0.74      0.63       346\n",
      "weighted avg       0.86      0.72      0.76       346\n",
      "\n"
     ]
    }
   ],
   "source": [
    "for i in range(4):        \n",
    "        if i%4==0:\n",
    "            ml_model=DecisionTreeClassifier(criterion='gini', splitter='best')\n",
    "            irus(ml_model)\n",
    "        elif i%4==1:\n",
    "            ml_model=RandomForestClassifier()\n",
    "            irus(ml_model)\n",
    "        elif i%4==2:\n",
    "            ml_model=MLPClassifier(hidden_layer_sizes=(150,100,50), max_iter=300,activation = 'relu',solver='adam',random_state=1)\n",
    "            irus(ml_model)\n",
    "        elif i%4==3:\n",
    "            ml_model=LogisticRegression(solver='liblinear', random_state=0)\n",
    "            irus(ml_model)"
   ]
  },
  {
   "cell_type": "code",
   "execution_count": 73,
   "metadata": {},
   "outputs": [],
   "source": [
    "\n",
    "def without_irus(ml_model):\n",
    "    y = np.asarray(df[['stroke']])\n",
    "    b=(list(df))\n",
    "    x = np.asarray(df[b[:-1]])\n",
    "    X_train,X_test,y_train,y_test=train_test_split(x,y,test_size=0.2,random_state=0)\n",
    "    dtree=ml_model\n",
    "    dtree.fit(X_train,y_train)\n",
    "    y_pred=dtree.predict(X_test)\n",
    "    y_trainpred=dtree.predict(X_train)\n",
    "    cm_dtree=confusion_matrix(y_test,y_pred)\n",
    "\n",
    "    ax = sns.heatmap(cm_dtree, annot=True, cmap='Blues')\n",
    "\n",
    "    ax.set_title('Confusion Matrix \\n\\n');\n",
    "    ax.set_xlabel('\\nPredicted Values')\n",
    "    ax.set_ylabel('Actual Values ');\n",
    "\n",
    "    ## Ticket labels - List must be in alphabetical order\n",
    "    ax.xaxis.set_ticklabels(['False','True'])\n",
    "    ax.yaxis.set_ticklabels(['False','True'])\n",
    "\n",
    "    ## Display the visualization of the Confusion Matrix.\n",
    "    plt.show()\n",
    "    accuracy_dtree=accuracy_score(y_test,y_pred)\n",
    "    print(\"Accuracy: \",accuracy_dtree)\n",
    "    print(classification_report(y_test,y_pred))"
   ]
  },
  {
   "cell_type": "code",
   "execution_count": 74,
   "metadata": {},
   "outputs": [
    {
     "data": {
      "image/png": "[encoded data removed]",
      "text/plain": [
       "<Figure size 432x288 with 2 Axes>"
      ]
     },
     "metadata": {
      "needs_background": "light"
     },
     "output_type": "display_data"
    },
    {
     "name": "stdout",
     "output_type": "stream",
     "text": [
      "Accuracy:  0.9031311154598826\n",
      "              precision    recall  f1-score   support\n",
      "\n",
      "         0.0       0.95      0.95      0.95       967\n",
      "         1.0       0.13      0.15      0.14        55\n",
      "\n",
      "    accuracy                           0.90      1022\n",
      "   macro avg       0.54      0.55      0.54      1022\n",
      "weighted avg       0.91      0.90      0.91      1022\n",
      "\n"
     ]
    },
    {
     "name": "stderr",
     "output_type": "stream",
     "text": [
      "<ipython-input-73-f1c91d6695a6>:7: DataConversionWarning: A column-vector y was passed when a 1d array was expected. Please change the shape of y to (n_samples,), for example using ravel().\n",
      "  dtree.fit(X_train,y_train)\n"
     ]
    },
    {
     "data": {
      "image/png": "[encoded data removed]",
      "text/plain": [
       "<Figure size 432x288 with 2 Axes>"
      ]
     },
     "metadata": {
      "needs_background": "light"
     },
     "output_type": "display_data"
    },
    {
     "name": "stdout",
     "output_type": "stream",
     "text": [
      "Accuracy:  0.9432485322896281\n",
      "              precision    recall  f1-score   support\n",
      "\n",
      "         0.0       0.95      1.00      0.97       967\n",
      "         1.0       0.00      0.00      0.00        55\n",
      "\n",
      "    accuracy                           0.94      1022\n",
      "   macro avg       0.47      0.50      0.49      1022\n",
      "weighted avg       0.90      0.94      0.92      1022\n",
      "\n"
     ]
    },
    {
     "name": "stderr",
     "output_type": "stream",
     "text": [
      "C:\\ProgramData\\Anaconda3\\lib\\site-packages\\sklearn\\neural_network\\_multilayer_perceptron.py:1109: DataConversionWarning: A column-vector y was passed when a 1d array was expected. Please change the shape of y to (n_samples, ), for example using ravel().\n",
      "  y = column_or_1d(y, warn=True)\n"
     ]
    },
    {
     "data": {
      "image/png": "[encoded data removed]",
      "text/plain": [
       "<Figure size 432x288 with 2 Axes>"
      ]
     },
     "metadata": {
      "needs_background": "light"
     },
     "output_type": "display_data"
    },
    {
     "name": "stdout",
     "output_type": "stream",
     "text": [
      "Accuracy:  0.9461839530332681\n",
      "              precision    recall  f1-score   support\n",
      "\n",
      "         0.0       0.95      1.00      0.97       967\n",
      "         1.0       0.00      0.00      0.00        55\n",
      "\n",
      "    accuracy                           0.95      1022\n",
      "   macro avg       0.47      0.50      0.49      1022\n",
      "weighted avg       0.90      0.95      0.92      1022\n",
      "\n"
     ]
    },
    {
     "name": "stderr",
     "output_type": "stream",
     "text": [
      "C:\\ProgramData\\Anaconda3\\lib\\site-packages\\sklearn\\metrics\\_classification.py:1318: UndefinedMetricWarning: Precision and F-score are ill-defined and being set to 0.0 in labels with no predicted samples. Use `zero_division` parameter to control this behavior.\n",
      "  _warn_prf(average, modifier, msg_start, len(result))\n",
      "C:\\ProgramData\\Anaconda3\\lib\\site-packages\\sklearn\\metrics\\_classification.py:1318: UndefinedMetricWarning: Precision and F-score are ill-defined and being set to 0.0 in labels with no predicted samples. Use `zero_division` parameter to control this behavior.\n",
      "  _warn_prf(average, modifier, msg_start, len(result))\n",
      "C:\\ProgramData\\Anaconda3\\lib\\site-packages\\sklearn\\metrics\\_classification.py:1318: UndefinedMetricWarning: Precision and F-score are ill-defined and being set to 0.0 in labels with no predicted samples. Use `zero_division` parameter to control this behavior.\n",
      "  _warn_prf(average, modifier, msg_start, len(result))\n",
      "C:\\ProgramData\\Anaconda3\\lib\\site-packages\\sklearn\\utils\\validation.py:993: DataConversionWarning: A column-vector y was passed when a 1d array was expected. Please change the shape of y to (n_samples, ), for example using ravel().\n",
      "  y = column_or_1d(y, warn=True)\n"
     ]
    },
    {
     "data": {
      "image/png": "[encoded data removed]",
      "text/plain": [
       "<Figure size 432x288 with 2 Axes>"
      ]
     },
     "metadata": {
      "needs_background": "light"
     },
     "output_type": "display_data"
    },
    {
     "name": "stdout",
     "output_type": "stream",
     "text": [
      "Accuracy:  0.9461839530332681\n",
      "              precision    recall  f1-score   support\n",
      "\n",
      "         0.0       0.95      1.00      0.97       967\n",
      "         1.0       0.00      0.00      0.00        55\n",
      "\n",
      "    accuracy                           0.95      1022\n",
      "   macro avg       0.47      0.50      0.49      1022\n",
      "weighted avg       0.90      0.95      0.92      1022\n",
      "\n"
     ]
    },
    {
     "name": "stderr",
     "output_type": "stream",
     "text": [
      "C:\\ProgramData\\Anaconda3\\lib\\site-packages\\sklearn\\metrics\\_classification.py:1318: UndefinedMetricWarning: Precision and F-score are ill-defined and being set to 0.0 in labels with no predicted samples. Use `zero_division` parameter to control this behavior.\n",
      "  _warn_prf(average, modifier, msg_start, len(result))\n",
      "C:\\ProgramData\\Anaconda3\\lib\\site-packages\\sklearn\\metrics\\_classification.py:1318: UndefinedMetricWarning: Precision and F-score are ill-defined and being set to 0.0 in labels with no predicted samples. Use `zero_division` parameter to control this behavior.\n",
      "  _warn_prf(average, modifier, msg_start, len(result))\n",
      "C:\\ProgramData\\Anaconda3\\lib\\site-packages\\sklearn\\metrics\\_classification.py:1318: UndefinedMetricWarning: Precision and F-score are ill-defined and being set to 0.0 in labels with no predicted samples. Use `zero_division` parameter to control this behavior.\n",
      "  _warn_prf(average, modifier, msg_start, len(result))\n"
     ]
    }
   ],
   "source": [
    "for i in range(4):        \n",
    "        if i%4==0:\n",
    "            ml_model=DecisionTreeClassifier(criterion='gini', splitter='best')\n",
    "            without_irus(ml_model)\n",
    "        elif i%4==1:\n",
    "            ml_model=RandomForestClassifier()\n",
    "            without_irus(ml_model)\n",
    "        elif i%4==2:\n",
    "            ml_model=MLPClassifier(hidden_layer_sizes=(150,100,50), max_iter=300,activation = 'relu',solver='adam',random_state=1)\n",
    "            without_irus(ml_model)\n",
    "        elif i%4==3:\n",
    "            ml_model=LogisticRegression(solver='liblinear', random_state=0)\n",
    "            without_irus(ml_model)"
   ]
  },
  {
   "cell_type": "code",
   "execution_count": null,
   "metadata": {},
   "outputs": [],
   "source": []
  }
 ],
 "metadata": {
  "kernelspec": {
   "display_name": "Python 3",
   "language": "python",
   "name": "python3"
  },
  "language_info": {
   "codemirror_mode": {
    "name": "ipython",
    "version": 3
   },
   "file_extension": ".py",
   "mimetype": "text/x-python",
   "name": "python",
   "nbconvert_exporter": "python",
   "pygments_lexer": "ipython3",
   "version": "3.8.5"
  }
 },
 "nbformat": 4,
 "nbformat_minor": 4
}
